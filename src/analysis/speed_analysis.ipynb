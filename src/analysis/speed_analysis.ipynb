{
 "cells": [
  {
   "cell_type": "code",
   "execution_count": 1,
   "metadata": {},
   "outputs": [],
   "source": [
    "import jsonlines\n",
    "import os\n",
    "os.chdir(\"..\")"
   ]
  },
  {
   "cell_type": "code",
   "execution_count": 2,
   "metadata": {},
   "outputs": [
    {
     "data": {
      "text/plain": [
       "'/home/kawshikcvit/coref_research/gpt-coref-met-a6/src'"
      ]
     },
     "execution_count": 2,
     "metadata": {},
     "output_type": "execute_result"
    }
   ],
   "source": [
    "os.getcwd()"
   ]
  },
  {
   "cell_type": "code",
   "execution_count": 3,
   "metadata": {},
   "outputs": [],
   "source": [
    "import pandas as pd\n",
    "import matplotlib.pyplot as plt\n",
    "import seaborn as sns\n",
    "from omegaconf import OmegaConf\n",
    "# from config import *\n",
    "# from utils.utils import *"
   ]
  },
  {
   "cell_type": "code",
   "execution_count": 4,
   "metadata": {},
   "outputs": [],
   "source": [
    "# dataset_config = OmegaConf.load(dataset_yaml)"
   ]
  },
  {
   "cell_type": "code",
   "execution_count": 5,
   "metadata": {},
   "outputs": [
    {
     "ename": "FileNotFoundError",
     "evalue": "[Errno 2] No such file or directory: '../models/met_joint_fb2f450ec5de39374b42e26f91f9c27d_lf_s_train_final_runs_1/litbank/test_gold(eval).link.jsonl'",
     "output_type": "error",
     "traceback": [
      "\u001b[0;31m---------------------------------------------------------------------------\u001b[0m",
      "\u001b[0;31mFileNotFoundError\u001b[0m                         Traceback (most recent call last)",
      "Cell \u001b[0;32mIn[5], line 26\u001b[0m\n\u001b[1;32m     23\u001b[0m speed_dets_coref \u001b[38;5;241m=\u001b[39m []\n\u001b[1;32m     25\u001b[0m \u001b[38;5;28;01mfor\u001b[39;00m ind,speed_file \u001b[38;5;129;01min\u001b[39;00m \u001b[38;5;28menumerate\u001b[39m(speed_files_met):\n\u001b[0;32m---> 26\u001b[0m     \u001b[38;5;28;01mwith\u001b[39;00m \u001b[43mjsonlines\u001b[49m\u001b[38;5;241;43m.\u001b[39;49m\u001b[43mopen\u001b[49m\u001b[43m(\u001b[49m\u001b[43mspeed_file\u001b[49m\u001b[43m)\u001b[49m \u001b[38;5;28;01mas\u001b[39;00m reader:\n\u001b[1;32m     27\u001b[0m         \u001b[38;5;28;01mfor\u001b[39;00m obj \u001b[38;5;129;01min\u001b[39;00m reader:\n\u001b[1;32m     28\u001b[0m             obj[\u001b[38;5;124m\"\u001b[39m\u001b[38;5;124mdataset\u001b[39m\u001b[38;5;124m\"\u001b[39m] \u001b[38;5;241m=\u001b[39m datasets[ind]\n",
      "File \u001b[0;32m~/miniconda3/envs/myenv/lib/python3.12/site-packages/jsonlines/jsonlines.py:643\u001b[0m, in \u001b[0;36mopen\u001b[0;34m(file, mode, loads, dumps, compact, sort_keys, flush)\u001b[0m\n\u001b[1;32m    641\u001b[0m \u001b[38;5;28mcls\u001b[39m \u001b[38;5;241m=\u001b[39m Reader \u001b[38;5;28;01mif\u001b[39;00m mode \u001b[38;5;241m==\u001b[39m \u001b[38;5;124m\"\u001b[39m\u001b[38;5;124mr\u001b[39m\u001b[38;5;124m\"\u001b[39m \u001b[38;5;28;01melse\u001b[39;00m Writer\n\u001b[1;32m    642\u001b[0m encoding \u001b[38;5;241m=\u001b[39m \u001b[38;5;124m\"\u001b[39m\u001b[38;5;124mutf-8-sig\u001b[39m\u001b[38;5;124m\"\u001b[39m \u001b[38;5;28;01mif\u001b[39;00m mode \u001b[38;5;241m==\u001b[39m \u001b[38;5;124m\"\u001b[39m\u001b[38;5;124mr\u001b[39m\u001b[38;5;124m\"\u001b[39m \u001b[38;5;28;01melse\u001b[39;00m \u001b[38;5;124m\"\u001b[39m\u001b[38;5;124mutf-8\u001b[39m\u001b[38;5;124m\"\u001b[39m\n\u001b[0;32m--> 643\u001b[0m fp \u001b[38;5;241m=\u001b[39m \u001b[43mbuiltins\u001b[49m\u001b[38;5;241;43m.\u001b[39;49m\u001b[43mopen\u001b[49m\u001b[43m(\u001b[49m\u001b[43mfile\u001b[49m\u001b[43m,\u001b[49m\u001b[43m \u001b[49m\u001b[43mmode\u001b[49m\u001b[38;5;241;43m=\u001b[39;49m\u001b[43mmode\u001b[49m\u001b[43m \u001b[49m\u001b[38;5;241;43m+\u001b[39;49m\u001b[43m \u001b[49m\u001b[38;5;124;43m\"\u001b[39;49m\u001b[38;5;124;43mt\u001b[39;49m\u001b[38;5;124;43m\"\u001b[39;49m\u001b[43m,\u001b[49m\u001b[43m \u001b[49m\u001b[43mencoding\u001b[49m\u001b[38;5;241;43m=\u001b[39;49m\u001b[43mencoding\u001b[49m\u001b[43m)\u001b[49m\n\u001b[1;32m    644\u001b[0m kwargs \u001b[38;5;241m=\u001b[39m \u001b[38;5;28mdict\u001b[39m(\n\u001b[1;32m    645\u001b[0m     loads\u001b[38;5;241m=\u001b[39mloads,\n\u001b[1;32m    646\u001b[0m     dumps\u001b[38;5;241m=\u001b[39mdumps,\n\u001b[0;32m   (...)\u001b[0m\n\u001b[1;32m    649\u001b[0m     flush\u001b[38;5;241m=\u001b[39mflush,\n\u001b[1;32m    650\u001b[0m )\n\u001b[1;32m    651\u001b[0m kwargs \u001b[38;5;241m=\u001b[39m {key: value \u001b[38;5;28;01mfor\u001b[39;00m key, value \u001b[38;5;129;01min\u001b[39;00m kwargs\u001b[38;5;241m.\u001b[39mitems() \u001b[38;5;28;01mif\u001b[39;00m value \u001b[38;5;129;01mis\u001b[39;00m \u001b[38;5;129;01mnot\u001b[39;00m \u001b[38;5;28;01mNone\u001b[39;00m}\n",
      "\u001b[0;31mFileNotFoundError\u001b[0m: [Errno 2] No such file or directory: '../models/met_joint_fb2f450ec5de39374b42e26f91f9c27d_lf_s_train_final_runs_1/litbank/test_gold(eval).link.jsonl'"
     ]
    }
   ],
   "source": [
    "met_model = \"../models/met_joint_fb2f450ec5de39374b42e26f91f9c27d_lf_s_train_final_runs_1\" ### Batch size: 64\n",
    "# met_d_model = \"../models/met_joint_b15694a2cf934ed40cbc210febd3a0ac_lf_d_train_final_runs_1\"\n",
    "coref_model = \"../models/coref_joint_336ef98339e98c974c38019915000014_coref_lf_train_final_runs_1\"\n",
    "datasets = [\"litbank\",\"fantasy\",\"aft\"]\n",
    "\n",
    "# docname_to_dataset = {}\n",
    "# datasets_test_files = [get_coref_docs(dataset_config[dataset][\"test_file\"]) for dataset in datasets]\n",
    "# for i, dataset in enumerate(datasets):\n",
    "#     for doc in datasets_test_files[i]:\n",
    "#         docname_to_dataset[doc] = dataset\n",
    "# print(docname_to_dataset)\n",
    "\n",
    "speed_files_met = []\n",
    "# speed_files_met_d = []\n",
    "speed_files_coref = []\n",
    "for dataset in datasets:\n",
    "    speed_files_met.append(f\"{met_model}/{dataset}/test_gold(eval).link.jsonl\")\n",
    "    # speed_files_met_d.append(f\"{met_d_model}/{dataset}/test_gold(eval).link.jsonl\")\n",
    "    speed_files_coref.append(f\"{coref_model}/{dataset}/test_gold(eval).link.jsonl\")\n",
    "\n",
    "speed_dets_met = []\n",
    "speed_dets_met_d = []\n",
    "speed_dets_coref = []\n",
    "\n",
    "for ind,speed_file in enumerate(speed_files_met):\n",
    "    with jsonlines.open(speed_file) as reader:\n",
    "        for obj in reader:\n",
    "            obj[\"dataset\"] = datasets[ind]\n",
    "            speed_dets_met.append(obj)\n",
    "\n",
    "for ind,speed_file in enumerate(speed_files_coref):\n",
    "    with jsonlines.open(speed_file) as reader:\n",
    "        for obj in reader:\n",
    "            obj[\"dataset\"] = datasets[ind]\n",
    "            speed_dets_coref.append(obj)\n",
    "\n",
    "# for speed_file in speed_files_met_d:\n",
    "#     with jsonlines.open(speed_file) as reader:\n",
    "#         for obj in reader:\n",
    "#             speed_dets_met_d.append(obj)\n",
    "\n",
    "speed_dets_coref_df = pd.DataFrame(speed_dets_coref)\n",
    "speed_dets_met_df = pd.DataFrame(speed_dets_met)\n",
    "# speed_dets_met_d_df = pd.DataFrame(speed_dets_met_d)"
   ]
  },
  {
   "cell_type": "code",
   "execution_count": 7,
   "metadata": {},
   "outputs": [],
   "source": [
    "bins = [0,100,500,1250,2500]\n",
    "speed_dets_coref_df['num_mentions_bins'] = pd.cut(speed_dets_coref_df['num_mentions'], bins=bins)\n",
    "speed_dets_met_df['num_mentions_bins'] = pd.cut(speed_dets_met_df['num_mentions'], bins=bins)"
   ]
  },
  {
   "cell_type": "code",
   "execution_count": 8,
   "metadata": {},
   "outputs": [],
   "source": [
    "coref_speed_csv = \"coref_speed.csv\"\n",
    "met_speed_csv = \"met_speed.csv\"\n",
    "\n",
    "speed_dets_coref_df.to_csv(coref_speed_csv)\n",
    "speed_dets_met_df.to_csv(met_speed_csv)"
   ]
  },
  {
   "cell_type": "code",
   "execution_count": 7,
   "metadata": {},
   "outputs": [
    {
     "data": {
      "text/html": [
       "<div>\n",
       "<style scoped>\n",
       "    .dataframe tbody tr th:only-of-type {\n",
       "        vertical-align: middle;\n",
       "    }\n",
       "\n",
       "    .dataframe tbody tr th {\n",
       "        vertical-align: top;\n",
       "    }\n",
       "\n",
       "    .dataframe thead th {\n",
       "        text-align: right;\n",
       "    }\n",
       "</style>\n",
       "<table border=\"1\" class=\"dataframe\">\n",
       "  <thead>\n",
       "    <tr style=\"text-align: right;\">\n",
       "      <th></th>\n",
       "      <th>doc_key</th>\n",
       "      <th>num_mentions</th>\n",
       "      <th>link_time</th>\n",
       "      <th>dataset</th>\n",
       "    </tr>\n",
       "  </thead>\n",
       "  <tbody>\n",
       "    <tr>\n",
       "      <th>0</th>\n",
       "      <td>6593_history_of_tom_jones_a_foundling_brat_0</td>\n",
       "      <td>219</td>\n",
       "      <td>0.005225</td>\n",
       "      <td>litbank</td>\n",
       "    </tr>\n",
       "    <tr>\n",
       "      <th>1</th>\n",
       "      <td>271_black_beauty_brat_0</td>\n",
       "      <td>350</td>\n",
       "      <td>0.008214</td>\n",
       "      <td>litbank</td>\n",
       "    </tr>\n",
       "    <tr>\n",
       "      <th>2</th>\n",
       "      <td>730_oliver_twist_brat_0</td>\n",
       "      <td>226</td>\n",
       "      <td>0.006007</td>\n",
       "      <td>litbank</td>\n",
       "    </tr>\n",
       "    <tr>\n",
       "      <th>3</th>\n",
       "      <td>16357_mary_a_fiction_brat_0</td>\n",
       "      <td>278</td>\n",
       "      <td>0.004606</td>\n",
       "      <td>litbank</td>\n",
       "    </tr>\n",
       "    <tr>\n",
       "      <th>4</th>\n",
       "      <td>2807_to_have_and_to_hold_brat_0</td>\n",
       "      <td>316</td>\n",
       "      <td>0.003922</td>\n",
       "      <td>litbank</td>\n",
       "    </tr>\n",
       "    <tr>\n",
       "      <th>5</th>\n",
       "      <td>1023_bleak_house_brat_0</td>\n",
       "      <td>256</td>\n",
       "      <td>0.003190</td>\n",
       "      <td>litbank</td>\n",
       "    </tr>\n",
       "    <tr>\n",
       "      <th>6</th>\n",
       "      <td>1155_the_secret_adversary_brat_0</td>\n",
       "      <td>290</td>\n",
       "      <td>0.004685</td>\n",
       "      <td>litbank</td>\n",
       "    </tr>\n",
       "    <tr>\n",
       "      <th>7</th>\n",
       "      <td>238_dear_enemy_brat_0</td>\n",
       "      <td>328</td>\n",
       "      <td>0.005455</td>\n",
       "      <td>litbank</td>\n",
       "    </tr>\n",
       "    <tr>\n",
       "      <th>8</th>\n",
       "      <td>1661_the_adventures_of_sherlock_holmes_brat_0</td>\n",
       "      <td>287</td>\n",
       "      <td>0.004613</td>\n",
       "      <td>litbank</td>\n",
       "    </tr>\n",
       "    <tr>\n",
       "      <th>9</th>\n",
       "      <td>711_allan_quatermain_brat_0</td>\n",
       "      <td>282</td>\n",
       "      <td>0.004798</td>\n",
       "      <td>litbank</td>\n",
       "    </tr>\n",
       "    <tr>\n",
       "      <th>10</th>\n",
       "      <td>001_The_Frog-King,_or_Iron_Henry_0</td>\n",
       "      <td>316</td>\n",
       "      <td>0.004564</td>\n",
       "      <td>fantasy</td>\n",
       "    </tr>\n",
       "    <tr>\n",
       "      <th>11</th>\n",
       "      <td>008_The_Wonderful_Musician_0</td>\n",
       "      <td>160</td>\n",
       "      <td>0.004461</td>\n",
       "      <td>fantasy</td>\n",
       "    </tr>\n",
       "    <tr>\n",
       "      <th>12</th>\n",
       "      <td>031_The_Girl_Without_Hands_0</td>\n",
       "      <td>570</td>\n",
       "      <td>0.013494</td>\n",
       "      <td>fantasy</td>\n",
       "    </tr>\n",
       "    <tr>\n",
       "      <th>13</th>\n",
       "      <td>039_The_Elves_0</td>\n",
       "      <td>214</td>\n",
       "      <td>0.005571</td>\n",
       "      <td>fantasy</td>\n",
       "    </tr>\n",
       "    <tr>\n",
       "      <th>14</th>\n",
       "      <td>042_The_Godfather_0</td>\n",
       "      <td>138</td>\n",
       "      <td>0.002428</td>\n",
       "      <td>fantasy</td>\n",
       "    </tr>\n",
       "    <tr>\n",
       "      <th>15</th>\n",
       "      <td>045_Thumbling_as_Journeyman_0</td>\n",
       "      <td>327</td>\n",
       "      <td>0.005548</td>\n",
       "      <td>fantasy</td>\n",
       "    </tr>\n",
       "    <tr>\n",
       "      <th>16</th>\n",
       "      <td>059_Frederick_and_Catherine_0</td>\n",
       "      <td>622</td>\n",
       "      <td>0.014913</td>\n",
       "      <td>fantasy</td>\n",
       "    </tr>\n",
       "    <tr>\n",
       "      <th>17</th>\n",
       "      <td>074_The_Fox_and_His_Cousin_0</td>\n",
       "      <td>76</td>\n",
       "      <td>0.001215</td>\n",
       "      <td>fantasy</td>\n",
       "    </tr>\n",
       "    <tr>\n",
       "      <th>18</th>\n",
       "      <td>109_The_Shroud_0</td>\n",
       "      <td>53</td>\n",
       "      <td>0.000701</td>\n",
       "      <td>fantasy</td>\n",
       "    </tr>\n",
       "    <tr>\n",
       "      <th>19</th>\n",
       "      <td>111_The_Skilful_Huntsman_0</td>\n",
       "      <td>565</td>\n",
       "      <td>0.013545</td>\n",
       "      <td>fantasy</td>\n",
       "    </tr>\n",
       "    <tr>\n",
       "      <th>20</th>\n",
       "      <td>114_The_Cunning_Little_Tailor_0</td>\n",
       "      <td>208</td>\n",
       "      <td>0.005575</td>\n",
       "      <td>fantasy</td>\n",
       "    </tr>\n",
       "    <tr>\n",
       "      <th>21</th>\n",
       "      <td>130_One-eye,_Two-eyes,_and_Three-eyes_0</td>\n",
       "      <td>593</td>\n",
       "      <td>0.014512</td>\n",
       "      <td>fantasy</td>\n",
       "    </tr>\n",
       "    <tr>\n",
       "      <th>22</th>\n",
       "      <td>136_Iron_John_0</td>\n",
       "      <td>604</td>\n",
       "      <td>0.013977</td>\n",
       "      <td>fantasy</td>\n",
       "    </tr>\n",
       "    <tr>\n",
       "      <th>23</th>\n",
       "      <td>138_Knoist_and_his_Three_Sons_0</td>\n",
       "      <td>27</td>\n",
       "      <td>0.000622</td>\n",
       "      <td>fantasy</td>\n",
       "    </tr>\n",
       "    <tr>\n",
       "      <th>24</th>\n",
       "      <td>144_The_Donkey_0</td>\n",
       "      <td>207</td>\n",
       "      <td>0.005672</td>\n",
       "      <td>fantasy</td>\n",
       "    </tr>\n",
       "    <tr>\n",
       "      <th>25</th>\n",
       "      <td>145_The_Ungrateful_Son_0</td>\n",
       "      <td>38</td>\n",
       "      <td>0.000695</td>\n",
       "      <td>fantasy</td>\n",
       "    </tr>\n",
       "    <tr>\n",
       "      <th>26</th>\n",
       "      <td>148_The_Lord’s_Animals_and_the_Devil’s_0</td>\n",
       "      <td>63</td>\n",
       "      <td>0.000896</td>\n",
       "      <td>fantasy</td>\n",
       "    </tr>\n",
       "    <tr>\n",
       "      <th>27</th>\n",
       "      <td>156_Odds_And_Ends_0</td>\n",
       "      <td>43</td>\n",
       "      <td>0.000839</td>\n",
       "      <td>fantasy</td>\n",
       "    </tr>\n",
       "    <tr>\n",
       "      <th>28</th>\n",
       "      <td>191_The_Sea-Hare_0</td>\n",
       "      <td>247</td>\n",
       "      <td>0.003826</td>\n",
       "      <td>fantasy</td>\n",
       "    </tr>\n",
       "    <tr>\n",
       "      <th>29</th>\n",
       "      <td>198_Maid_Maleen_0</td>\n",
       "      <td>310</td>\n",
       "      <td>0.004960</td>\n",
       "      <td>fantasy</td>\n",
       "    </tr>\n",
       "    <tr>\n",
       "      <th>30</th>\n",
       "      <td>Aladdin_0</td>\n",
       "      <td>1321</td>\n",
       "      <td>0.030740</td>\n",
       "      <td>aft</td>\n",
       "    </tr>\n",
       "    <tr>\n",
       "      <th>31</th>\n",
       "      <td>Alibaba_0</td>\n",
       "      <td>1408</td>\n",
       "      <td>0.039386</td>\n",
       "      <td>aft</td>\n",
       "    </tr>\n",
       "    <tr>\n",
       "      <th>32</th>\n",
       "      <td>alice_0</td>\n",
       "      <td>1857</td>\n",
       "      <td>0.043366</td>\n",
       "      <td>aft</td>\n",
       "    </tr>\n",
       "  </tbody>\n",
       "</table>\n",
       "</div>"
      ],
      "text/plain": [
       "                                          doc_key  num_mentions  link_time  \\\n",
       "0    6593_history_of_tom_jones_a_foundling_brat_0           219   0.005225   \n",
       "1                         271_black_beauty_brat_0           350   0.008214   \n",
       "2                         730_oliver_twist_brat_0           226   0.006007   \n",
       "3                     16357_mary_a_fiction_brat_0           278   0.004606   \n",
       "4                 2807_to_have_and_to_hold_brat_0           316   0.003922   \n",
       "5                         1023_bleak_house_brat_0           256   0.003190   \n",
       "6                1155_the_secret_adversary_brat_0           290   0.004685   \n",
       "7                           238_dear_enemy_brat_0           328   0.005455   \n",
       "8   1661_the_adventures_of_sherlock_holmes_brat_0           287   0.004613   \n",
       "9                     711_allan_quatermain_brat_0           282   0.004798   \n",
       "10             001_The_Frog-King,_or_Iron_Henry_0           316   0.004564   \n",
       "11                   008_The_Wonderful_Musician_0           160   0.004461   \n",
       "12                   031_The_Girl_Without_Hands_0           570   0.013494   \n",
       "13                                039_The_Elves_0           214   0.005571   \n",
       "14                            042_The_Godfather_0           138   0.002428   \n",
       "15                  045_Thumbling_as_Journeyman_0           327   0.005548   \n",
       "16                  059_Frederick_and_Catherine_0           622   0.014913   \n",
       "17                   074_The_Fox_and_His_Cousin_0            76   0.001215   \n",
       "18                               109_The_Shroud_0            53   0.000701   \n",
       "19                     111_The_Skilful_Huntsman_0           565   0.013545   \n",
       "20                114_The_Cunning_Little_Tailor_0           208   0.005575   \n",
       "21        130_One-eye,_Two-eyes,_and_Three-eyes_0           593   0.014512   \n",
       "22                                136_Iron_John_0           604   0.013977   \n",
       "23                138_Knoist_and_his_Three_Sons_0            27   0.000622   \n",
       "24                               144_The_Donkey_0           207   0.005672   \n",
       "25                       145_The_Ungrateful_Son_0            38   0.000695   \n",
       "26       148_The_Lord’s_Animals_and_the_Devil’s_0            63   0.000896   \n",
       "27                            156_Odds_And_Ends_0            43   0.000839   \n",
       "28                             191_The_Sea-Hare_0           247   0.003826   \n",
       "29                              198_Maid_Maleen_0           310   0.004960   \n",
       "30                                      Aladdin_0          1321   0.030740   \n",
       "31                                      Alibaba_0          1408   0.039386   \n",
       "32                                        alice_0          1857   0.043366   \n",
       "\n",
       "    dataset  \n",
       "0   litbank  \n",
       "1   litbank  \n",
       "2   litbank  \n",
       "3   litbank  \n",
       "4   litbank  \n",
       "5   litbank  \n",
       "6   litbank  \n",
       "7   litbank  \n",
       "8   litbank  \n",
       "9   litbank  \n",
       "10  fantasy  \n",
       "11  fantasy  \n",
       "12  fantasy  \n",
       "13  fantasy  \n",
       "14  fantasy  \n",
       "15  fantasy  \n",
       "16  fantasy  \n",
       "17  fantasy  \n",
       "18  fantasy  \n",
       "19  fantasy  \n",
       "20  fantasy  \n",
       "21  fantasy  \n",
       "22  fantasy  \n",
       "23  fantasy  \n",
       "24  fantasy  \n",
       "25  fantasy  \n",
       "26  fantasy  \n",
       "27  fantasy  \n",
       "28  fantasy  \n",
       "29  fantasy  \n",
       "30      aft  \n",
       "31      aft  \n",
       "32      aft  "
      ]
     },
     "execution_count": 7,
     "metadata": {},
     "output_type": "execute_result"
    }
   ],
   "source": [
    "speed_dets_met_df"
   ]
  },
  {
   "cell_type": "code",
   "execution_count": 9,
   "metadata": {},
   "outputs": [
    {
     "data": {
      "image/png": "[encoded data removed]",
      "text/plain": [
       "<Figure size 1000x600 with 1 Axes>"
      ]
     },
     "metadata": {},
     "output_type": "display_data"
    }
   ],
   "source": [
    "plt.figure(figsize=(10, 6))\n",
    "sns.lineplot(data=speed_dets_coref_df, x='num_mentions', y='link_time', label='fast-coref', marker='o')\n",
    "sns.lineplot(data=speed_dets_met_df, x='num_mentions', y='link_time', label='MEIRa-S', marker='s')\n",
    "\n",
    "# Add labels and title\n",
    "plt.xlabel('Number of Mentions')\n",
    "plt.ylabel('Link-Time')\n",
    "plt.title('Line Plot of Number of Mentions vs Link-Time')\n",
    "plt.legend(title='Datasets')\n",
    "\n",
    "# Beautify the plot\n",
    "sns.set_style('darkgrid')\n",
    "plt.xticks(fontsize=12)\n",
    "plt.yticks(fontsize=12)\n",
    "plt.grid(True, which='both', linestyle='--', linewidth=0.5)\n",
    "plt.tight_layout()\n",
    "\n",
    "# Show the plot\n",
    "plt.show()"
   ]
  },
  {
   "cell_type": "code",
   "execution_count": 10,
   "metadata": {},
   "outputs": [
    {
     "data": {
      "image/png": "[encoded data removed]",
      "text/plain": [
       "<Figure size 1000x600 with 1 Axes>"
      ]
     },
     "metadata": {},
     "output_type": "display_data"
    }
   ],
   "source": [
    "plt.figure(figsize=(10, 6))\n",
    "sns.scatterplot(data=speed_dets_coref_df, x='num_mentions', y='link_time', label='fast-coref', marker='o')\n",
    "sns.scatterplot(data=speed_dets_met_df, x='num_mentions', y='link_time', label='MEIRa-S', marker='s')\n",
    "\n",
    "# Add labels and title\n",
    "plt.xlabel('Number of Mentions')\n",
    "plt.ylabel('Link-Time')\n",
    "plt.title('Line Plot of Number of Mentions vs Link-Time')\n",
    "plt.legend(title='Datasets')\n",
    "\n",
    "# Beautify the plot\n",
    "sns.set_style('darkgrid')\n",
    "plt.xticks(fontsize=12)\n",
    "plt.yticks(fontsize=12)\n",
    "plt.grid(True, which='both', linestyle='--', linewidth=0.5)\n",
    "plt.tight_layout()\n",
    "\n",
    "# Show the plot\n",
    "plt.show()"
   ]
  },
  {
   "cell_type": "code",
   "execution_count": 11,
   "metadata": {},
   "outputs": [],
   "source": [
    "bins = [0,100,500,1250,2500]\n",
    "speed_dets_coref_df['num_mentions_bins'] = pd.cut(speed_dets_coref_df['num_mentions'], bins=bins)\n",
    "speed_dets_met_df['num_mentions_bins'] = pd.cut(speed_dets_met_df['num_mentions'], bins=bins)"
   ]
  },
  {
   "cell_type": "code",
   "execution_count": 12,
   "metadata": {},
   "outputs": [
    {
     "data": {
      "text/html": [
       "<div>\n",
       "<style scoped>\n",
       "    .dataframe tbody tr th:only-of-type {\n",
       "        vertical-align: middle;\n",
       "    }\n",
       "\n",
       "    .dataframe tbody tr th {\n",
       "        vertical-align: top;\n",
       "    }\n",
       "\n",
       "    .dataframe thead th {\n",
       "        text-align: right;\n",
       "    }\n",
       "</style>\n",
       "<table border=\"1\" class=\"dataframe\">\n",
       "  <thead>\n",
       "    <tr style=\"text-align: right;\">\n",
       "      <th></th>\n",
       "      <th>doc_key</th>\n",
       "      <th>num_mentions</th>\n",
       "      <th>link_time</th>\n",
       "      <th>dataset</th>\n",
       "      <th>num_mentions_bins</th>\n",
       "    </tr>\n",
       "  </thead>\n",
       "  <tbody>\n",
       "    <tr>\n",
       "      <th>0</th>\n",
       "      <td>6593_history_of_tom_jones_a_foundling_brat_0</td>\n",
       "      <td>219</td>\n",
       "      <td>0.117025</td>\n",
       "      <td>litbank</td>\n",
       "      <td>(100, 500]</td>\n",
       "    </tr>\n",
       "    <tr>\n",
       "      <th>1</th>\n",
       "      <td>271_black_beauty_brat_0</td>\n",
       "      <td>350</td>\n",
       "      <td>0.184199</td>\n",
       "      <td>litbank</td>\n",
       "      <td>(100, 500]</td>\n",
       "    </tr>\n",
       "    <tr>\n",
       "      <th>2</th>\n",
       "      <td>730_oliver_twist_brat_0</td>\n",
       "      <td>226</td>\n",
       "      <td>0.117596</td>\n",
       "      <td>litbank</td>\n",
       "      <td>(100, 500]</td>\n",
       "    </tr>\n",
       "    <tr>\n",
       "      <th>3</th>\n",
       "      <td>16357_mary_a_fiction_brat_0</td>\n",
       "      <td>278</td>\n",
       "      <td>0.144291</td>\n",
       "      <td>litbank</td>\n",
       "      <td>(100, 500]</td>\n",
       "    </tr>\n",
       "    <tr>\n",
       "      <th>4</th>\n",
       "      <td>2807_to_have_and_to_hold_brat_0</td>\n",
       "      <td>316</td>\n",
       "      <td>0.170432</td>\n",
       "      <td>litbank</td>\n",
       "      <td>(100, 500]</td>\n",
       "    </tr>\n",
       "    <tr>\n",
       "      <th>5</th>\n",
       "      <td>1023_bleak_house_brat_0</td>\n",
       "      <td>256</td>\n",
       "      <td>0.143715</td>\n",
       "      <td>litbank</td>\n",
       "      <td>(100, 500]</td>\n",
       "    </tr>\n",
       "    <tr>\n",
       "      <th>6</th>\n",
       "      <td>1155_the_secret_adversary_brat_0</td>\n",
       "      <td>290</td>\n",
       "      <td>0.152396</td>\n",
       "      <td>litbank</td>\n",
       "      <td>(100, 500]</td>\n",
       "    </tr>\n",
       "    <tr>\n",
       "      <th>7</th>\n",
       "      <td>238_dear_enemy_brat_0</td>\n",
       "      <td>328</td>\n",
       "      <td>0.176533</td>\n",
       "      <td>litbank</td>\n",
       "      <td>(100, 500]</td>\n",
       "    </tr>\n",
       "    <tr>\n",
       "      <th>8</th>\n",
       "      <td>1661_the_adventures_of_sherlock_holmes_brat_0</td>\n",
       "      <td>287</td>\n",
       "      <td>0.148578</td>\n",
       "      <td>litbank</td>\n",
       "      <td>(100, 500]</td>\n",
       "    </tr>\n",
       "    <tr>\n",
       "      <th>9</th>\n",
       "      <td>711_allan_quatermain_brat_0</td>\n",
       "      <td>282</td>\n",
       "      <td>0.146328</td>\n",
       "      <td>litbank</td>\n",
       "      <td>(100, 500]</td>\n",
       "    </tr>\n",
       "    <tr>\n",
       "      <th>10</th>\n",
       "      <td>001_The_Frog-King,_or_Iron_Henry_0</td>\n",
       "      <td>316</td>\n",
       "      <td>0.159837</td>\n",
       "      <td>fantasy</td>\n",
       "      <td>(100, 500]</td>\n",
       "    </tr>\n",
       "    <tr>\n",
       "      <th>11</th>\n",
       "      <td>008_The_Wonderful_Musician_0</td>\n",
       "      <td>160</td>\n",
       "      <td>0.083155</td>\n",
       "      <td>fantasy</td>\n",
       "      <td>(100, 500]</td>\n",
       "    </tr>\n",
       "    <tr>\n",
       "      <th>12</th>\n",
       "      <td>031_The_Girl_Without_Hands_0</td>\n",
       "      <td>570</td>\n",
       "      <td>0.300592</td>\n",
       "      <td>fantasy</td>\n",
       "      <td>(500, 1250]</td>\n",
       "    </tr>\n",
       "    <tr>\n",
       "      <th>13</th>\n",
       "      <td>039_The_Elves_0</td>\n",
       "      <td>214</td>\n",
       "      <td>0.112207</td>\n",
       "      <td>fantasy</td>\n",
       "      <td>(100, 500]</td>\n",
       "    </tr>\n",
       "    <tr>\n",
       "      <th>14</th>\n",
       "      <td>042_The_Godfather_0</td>\n",
       "      <td>138</td>\n",
       "      <td>0.069843</td>\n",
       "      <td>fantasy</td>\n",
       "      <td>(100, 500]</td>\n",
       "    </tr>\n",
       "    <tr>\n",
       "      <th>15</th>\n",
       "      <td>045_Thumbling_as_Journeyman_0</td>\n",
       "      <td>327</td>\n",
       "      <td>0.168613</td>\n",
       "      <td>fantasy</td>\n",
       "      <td>(100, 500]</td>\n",
       "    </tr>\n",
       "    <tr>\n",
       "      <th>16</th>\n",
       "      <td>059_Frederick_and_Catherine_0</td>\n",
       "      <td>622</td>\n",
       "      <td>0.329231</td>\n",
       "      <td>fantasy</td>\n",
       "      <td>(500, 1250]</td>\n",
       "    </tr>\n",
       "    <tr>\n",
       "      <th>17</th>\n",
       "      <td>074_The_Fox_and_His_Cousin_0</td>\n",
       "      <td>76</td>\n",
       "      <td>0.038159</td>\n",
       "      <td>fantasy</td>\n",
       "      <td>(0, 100]</td>\n",
       "    </tr>\n",
       "    <tr>\n",
       "      <th>18</th>\n",
       "      <td>109_The_Shroud_0</td>\n",
       "      <td>53</td>\n",
       "      <td>0.026641</td>\n",
       "      <td>fantasy</td>\n",
       "      <td>(0, 100]</td>\n",
       "    </tr>\n",
       "    <tr>\n",
       "      <th>19</th>\n",
       "      <td>111_The_Skilful_Huntsman_0</td>\n",
       "      <td>565</td>\n",
       "      <td>0.298401</td>\n",
       "      <td>fantasy</td>\n",
       "      <td>(500, 1250]</td>\n",
       "    </tr>\n",
       "    <tr>\n",
       "      <th>20</th>\n",
       "      <td>114_The_Cunning_Little_Tailor_0</td>\n",
       "      <td>208</td>\n",
       "      <td>0.108145</td>\n",
       "      <td>fantasy</td>\n",
       "      <td>(100, 500]</td>\n",
       "    </tr>\n",
       "    <tr>\n",
       "      <th>21</th>\n",
       "      <td>130_One-eye,_Two-eyes,_and_Three-eyes_0</td>\n",
       "      <td>593</td>\n",
       "      <td>0.310310</td>\n",
       "      <td>fantasy</td>\n",
       "      <td>(500, 1250]</td>\n",
       "    </tr>\n",
       "    <tr>\n",
       "      <th>22</th>\n",
       "      <td>136_Iron_John_0</td>\n",
       "      <td>604</td>\n",
       "      <td>0.317669</td>\n",
       "      <td>fantasy</td>\n",
       "      <td>(500, 1250]</td>\n",
       "    </tr>\n",
       "    <tr>\n",
       "      <th>23</th>\n",
       "      <td>138_Knoist_and_his_Three_Sons_0</td>\n",
       "      <td>27</td>\n",
       "      <td>0.013425</td>\n",
       "      <td>fantasy</td>\n",
       "      <td>(0, 100]</td>\n",
       "    </tr>\n",
       "    <tr>\n",
       "      <th>24</th>\n",
       "      <td>144_The_Donkey_0</td>\n",
       "      <td>207</td>\n",
       "      <td>0.107878</td>\n",
       "      <td>fantasy</td>\n",
       "      <td>(100, 500]</td>\n",
       "    </tr>\n",
       "    <tr>\n",
       "      <th>25</th>\n",
       "      <td>145_The_Ungrateful_Son_0</td>\n",
       "      <td>38</td>\n",
       "      <td>0.019048</td>\n",
       "      <td>fantasy</td>\n",
       "      <td>(0, 100]</td>\n",
       "    </tr>\n",
       "    <tr>\n",
       "      <th>26</th>\n",
       "      <td>148_The_Lord’s_Animals_and_the_Devil’s_0</td>\n",
       "      <td>63</td>\n",
       "      <td>0.031699</td>\n",
       "      <td>fantasy</td>\n",
       "      <td>(0, 100]</td>\n",
       "    </tr>\n",
       "    <tr>\n",
       "      <th>27</th>\n",
       "      <td>156_Odds_And_Ends_0</td>\n",
       "      <td>43</td>\n",
       "      <td>0.021626</td>\n",
       "      <td>fantasy</td>\n",
       "      <td>(0, 100]</td>\n",
       "    </tr>\n",
       "    <tr>\n",
       "      <th>28</th>\n",
       "      <td>191_The_Sea-Hare_0</td>\n",
       "      <td>247</td>\n",
       "      <td>0.126327</td>\n",
       "      <td>fantasy</td>\n",
       "      <td>(100, 500]</td>\n",
       "    </tr>\n",
       "    <tr>\n",
       "      <th>29</th>\n",
       "      <td>198_Maid_Maleen_0</td>\n",
       "      <td>310</td>\n",
       "      <td>0.161613</td>\n",
       "      <td>fantasy</td>\n",
       "      <td>(100, 500]</td>\n",
       "    </tr>\n",
       "    <tr>\n",
       "      <th>30</th>\n",
       "      <td>Aladdin_0</td>\n",
       "      <td>1321</td>\n",
       "      <td>0.736993</td>\n",
       "      <td>aft</td>\n",
       "      <td>(1250, 2500]</td>\n",
       "    </tr>\n",
       "    <tr>\n",
       "      <th>31</th>\n",
       "      <td>Alibaba_0</td>\n",
       "      <td>1408</td>\n",
       "      <td>0.795708</td>\n",
       "      <td>aft</td>\n",
       "      <td>(1250, 2500]</td>\n",
       "    </tr>\n",
       "    <tr>\n",
       "      <th>32</th>\n",
       "      <td>alice_0</td>\n",
       "      <td>1857</td>\n",
       "      <td>1.199884</td>\n",
       "      <td>aft</td>\n",
       "      <td>(1250, 2500]</td>\n",
       "    </tr>\n",
       "  </tbody>\n",
       "</table>\n",
       "</div>"
      ],
      "text/plain": [
       "                                          doc_key  num_mentions  link_time  \\\n",
       "0    6593_history_of_tom_jones_a_foundling_brat_0           219   0.117025   \n",
       "1                         271_black_beauty_brat_0           350   0.184199   \n",
       "2                         730_oliver_twist_brat_0           226   0.117596   \n",
       "3                     16357_mary_a_fiction_brat_0           278   0.144291   \n",
       "4                 2807_to_have_and_to_hold_brat_0           316   0.170432   \n",
       "5                         1023_bleak_house_brat_0           256   0.143715   \n",
       "6                1155_the_secret_adversary_brat_0           290   0.152396   \n",
       "7                           238_dear_enemy_brat_0           328   0.176533   \n",
       "8   1661_the_adventures_of_sherlock_holmes_brat_0           287   0.148578   \n",
       "9                     711_allan_quatermain_brat_0           282   0.146328   \n",
       "10             001_The_Frog-King,_or_Iron_Henry_0           316   0.159837   \n",
       "11                   008_The_Wonderful_Musician_0           160   0.083155   \n",
       "12                   031_The_Girl_Without_Hands_0           570   0.300592   \n",
       "13                                039_The_Elves_0           214   0.112207   \n",
       "14                            042_The_Godfather_0           138   0.069843   \n",
       "15                  045_Thumbling_as_Journeyman_0           327   0.168613   \n",
       "16                  059_Frederick_and_Catherine_0           622   0.329231   \n",
       "17                   074_The_Fox_and_His_Cousin_0            76   0.038159   \n",
       "18                               109_The_Shroud_0            53   0.026641   \n",
       "19                     111_The_Skilful_Huntsman_0           565   0.298401   \n",
       "20                114_The_Cunning_Little_Tailor_0           208   0.108145   \n",
       "21        130_One-eye,_Two-eyes,_and_Three-eyes_0           593   0.310310   \n",
       "22                                136_Iron_John_0           604   0.317669   \n",
       "23                138_Knoist_and_his_Three_Sons_0            27   0.013425   \n",
       "24                               144_The_Donkey_0           207   0.107878   \n",
       "25                       145_The_Ungrateful_Son_0            38   0.019048   \n",
       "26       148_The_Lord’s_Animals_and_the_Devil’s_0            63   0.031699   \n",
       "27                            156_Odds_And_Ends_0            43   0.021626   \n",
       "28                             191_The_Sea-Hare_0           247   0.126327   \n",
       "29                              198_Maid_Maleen_0           310   0.161613   \n",
       "30                                      Aladdin_0          1321   0.736993   \n",
       "31                                      Alibaba_0          1408   0.795708   \n",
       "32                                        alice_0          1857   1.199884   \n",
       "\n",
       "    dataset num_mentions_bins  \n",
       "0   litbank        (100, 500]  \n",
       "1   litbank        (100, 500]  \n",
       "2   litbank        (100, 500]  \n",
       "3   litbank        (100, 500]  \n",
       "4   litbank        (100, 500]  \n",
       "5   litbank        (100, 500]  \n",
       "6   litbank        (100, 500]  \n",
       "7   litbank        (100, 500]  \n",
       "8   litbank        (100, 500]  \n",
       "9   litbank        (100, 500]  \n",
       "10  fantasy        (100, 500]  \n",
       "11  fantasy        (100, 500]  \n",
       "12  fantasy       (500, 1250]  \n",
       "13  fantasy        (100, 500]  \n",
       "14  fantasy        (100, 500]  \n",
       "15  fantasy        (100, 500]  \n",
       "16  fantasy       (500, 1250]  \n",
       "17  fantasy          (0, 100]  \n",
       "18  fantasy          (0, 100]  \n",
       "19  fantasy       (500, 1250]  \n",
       "20  fantasy        (100, 500]  \n",
       "21  fantasy       (500, 1250]  \n",
       "22  fantasy       (500, 1250]  \n",
       "23  fantasy          (0, 100]  \n",
       "24  fantasy        (100, 500]  \n",
       "25  fantasy          (0, 100]  \n",
       "26  fantasy          (0, 100]  \n",
       "27  fantasy          (0, 100]  \n",
       "28  fantasy        (100, 500]  \n",
       "29  fantasy        (100, 500]  \n",
       "30      aft      (1250, 2500]  \n",
       "31      aft      (1250, 2500]  \n",
       "32      aft      (1250, 2500]  "
      ]
     },
     "execution_count": 12,
     "metadata": {},
     "output_type": "execute_result"
    }
   ],
   "source": [
    "speed_dets_coref_df"
   ]
  },
  {
   "cell_type": "code",
   "execution_count": 22,
   "metadata": {},
   "outputs": [
    {
     "data": {
      "text/plain": [
       "(0.12156862745098039, 0.4666666666666667, 0.7058823529411765)"
      ]
     },
     "execution_count": 22,
     "metadata": {},
     "output_type": "execute_result"
    }
   ],
   "source": [
    "sns.palettes.color_palette()[0]"
   ]
  },
  {
   "cell_type": "code",
   "execution_count": 32,
   "metadata": {},
   "outputs": [
    {
     "name": "stdout",
     "output_type": "stream",
     "text": [
      "[0.0008281866709391276, 0.004911560761301141, 0.014088153839111328, 0.03783098856608073]\n"
     ]
    },
    {
     "data": {
      "image/png": "[encoded data removed]",
      "text/plain": [
       "<Figure size 1000x600 with 1 Axes>"
      ]
     },
     "metadata": {},
     "output_type": "display_data"
    }
   ],
   "source": [
    "## Merge speed_dets_coref_df and speed_dets_met_df and create \"method\" column\n",
    "speed_dets_coref_df['method'] = 'fast-coref'\n",
    "speed_dets_met_df['method'] = 'MEIRa-S'\n",
    "## Merge\n",
    "speed_dets = pd.concat([speed_dets_coref_df,speed_dets_met_df])\n",
    "\n",
    "plt.figure(figsize=(10, 6))\n",
    "\n",
    "# Define the order of categories\n",
    "hue_order = ['MEIRa-S', 'fast-coref']\n",
    "palette = [sns.palettes.color_palette()[1],sns.palettes.color_palette()[0]]\n",
    "\n",
    "# Beautify the plot\n",
    "sns.set_style('darkgrid')\n",
    "\n",
    "barplot = sns.barplot(data=speed_dets, x='num_mentions_bins', y='link_time', hue='method',hue_order=hue_order,palette=palette)\n",
    "\n",
    "# Annotate the bars inside the bar\n",
    "prev_bar_heights = None\n",
    "for container_ind,container in enumerate(barplot.containers):\n",
    "    if container_ind % 2 == 0:\n",
    "        barplot.bar_label(container, labels=[f'1x' for v in container], label_type='center', color='white', fontsize=10)\n",
    "        prev_bar_heights = [v.get_height() for v in container]\n",
    "    else:\n",
    "        print(prev_bar_heights)\n",
    "        # barplot.bar_label(container, labels=[f'{v.get_height():.2f}x' for v in container], label_type='center', color='white', fontsize=10)\n",
    "        barplot.bar_label(container, labels=[f'{v.get_height()/prev_bar_heights[v_ind]:.2f}x' for v_ind,v in enumerate(container)], label_type='center', color='white', fontsize=10)\n",
    "\n",
    "# Add labels and title\n",
    "plt.xlabel('Number of Mentions')\n",
    "plt.ylabel('Link-Time (log scale)')\n",
    "plt.title('Line Plot of Number of Mentions vs Link-Time')\n",
    "plt.legend(title='Datasets')\n",
    "\n",
    "\n",
    "plt.xticks(fontsize=12)\n",
    "plt.yticks(fontsize=12)\n",
    "plt.grid(True, which='both', linestyle='--', linewidth=0.5)\n",
    "plt.tight_layout()\n",
    "\n",
    "# Apply logarithmic scale to y-axis\n",
    "plt.yscale('log',base=2)\n",
    "plt.gca().yaxis.set_major_formatter(plt.FuncFormatter(lambda x, _: '{:.4f}'.format(x)))\n",
    "\n",
    "# Show the plot\n",
    "plt.show()"
   ]
  },
  {
   "cell_type": "code",
   "execution_count": 10,
   "metadata": {},
   "outputs": [
    {
     "name": "stdout",
     "output_type": "stream",
     "text": [
      "Requirement already satisfied: nbformat in /home/admin/miniconda3/envs/myenv/lib/python3.12/site-packages (5.10.4)\n",
      "Requirement already satisfied: fastjsonschema>=2.15 in /home/admin/miniconda3/envs/myenv/lib/python3.12/site-packages (from nbformat) (2.19.1)\n",
      "Requirement already satisfied: jsonschema>=2.6 in /home/admin/miniconda3/envs/myenv/lib/python3.12/site-packages (from nbformat) (4.21.1)\n",
      "Requirement already satisfied: jupyter-core!=5.0.*,>=4.12 in /home/admin/miniconda3/envs/myenv/lib/python3.12/site-packages (from nbformat) (5.5.0)\n",
      "Requirement already satisfied: traitlets>=5.1 in /home/admin/miniconda3/envs/myenv/lib/python3.12/site-packages (from nbformat) (5.14.2)\n",
      "Requirement already satisfied: attrs>=22.2.0 in /home/admin/miniconda3/envs/myenv/lib/python3.12/site-packages (from jsonschema>=2.6->nbformat) (23.2.0)\n",
      "Requirement already satisfied: jsonschema-specifications>=2023.03.6 in /home/admin/miniconda3/envs/myenv/lib/python3.12/site-packages (from jsonschema>=2.6->nbformat) (2023.12.1)\n",
      "Requirement already satisfied: referencing>=0.28.4 in /home/admin/miniconda3/envs/myenv/lib/python3.12/site-packages (from jsonschema>=2.6->nbformat) (0.34.0)\n",
      "Requirement already satisfied: rpds-py>=0.7.1 in /home/admin/miniconda3/envs/myenv/lib/python3.12/site-packages (from jsonschema>=2.6->nbformat) (0.18.0)\n",
      "Requirement already satisfied: platformdirs>=2.5 in /home/admin/miniconda3/envs/myenv/lib/python3.12/site-packages (from jupyter-core!=5.0.*,>=4.12->nbformat) (4.2.0)\n"
     ]
    }
   ],
   "source": [
    "!pip install --upgrade nbformat"
   ]
  },
  {
   "cell_type": "code",
   "execution_count": 15,
   "metadata": {},
   "outputs": [
    {
     "data": {
      "application/vnd.plotly.v1+json": {
       "config": {
        "plotlyServerURL": "https://plot.ly"
       },
       "data": [
        {
         "hovertemplate": "link_time=%{r}<br>num_mentions=%{theta}<extra></extra>",
         "legendgroup": "",
         "line": {
          "color": "#636efa",
          "dash": "solid"
         },
         "marker": {
          "symbol": "circle"
         },
         "mode": "lines",
         "name": "",
         "r": [
          1.277397632598877,
          1.838517665863037,
          1.1825172901153564,
          1.4465210437774658,
          1.5957846641540527,
          1.5090711116790771,
          1.663524866104126,
          1.8181977272033691,
          1.5961244106292725,
          1.5145151615142822,
          1.6562986373901367,
          0.8609893321990967,
          2.910966396331787,
          1.1668853759765625,
          0.6393530368804932,
          1.655945062637329,
          3.3177692890167236,
          0.28969383239746094,
          0.2695300579071045,
          2.8693618774414062,
          1.126495361328125,
          3.010085105895996,
          3.26822566986084,
          0.14347457885742188,
          1.1288650035858154,
          0.20139408111572266,
          0.35820627212524414,
          0.23388242721557617,
          1.3059027194976807,
          1.6937079429626465,
          7.483839750289917,
          7.842280387878418,
          11.299989223480225
         ],
         "showlegend": false,
         "subplot": "polar",
         "theta": [
          219,
          350,
          226,
          278,
          316,
          256,
          290,
          328,
          287,
          282,
          316,
          160,
          570,
          214,
          138,
          327,
          622,
          76,
          53,
          565,
          208,
          593,
          604,
          27,
          207,
          38,
          63,
          43,
          247,
          310,
          1321,
          1408,
          1857
         ],
         "type": "scatterpolar"
        }
       ],
       "layout": {
        "legend": {
         "tracegroupgap": 0
        },
        "margin": {
         "t": 60
        },
        "polar": {
         "angularaxis": {
          "direction": "clockwise",
          "rotation": 90
         },
         "domain": {
          "x": [
           0,
           1
          ],
          "y": [
           0,
           1
          ]
         }
        },
        "template": {
         "data": {
          "bar": [
           {
            "error_x": {
             "color": "#2a3f5f"
            },
            "error_y": {
             "color": "#2a3f5f"
            },
            "marker": {
             "line": {
              "color": "#E5ECF6",
              "width": 0.5
             },
             "pattern": {
              "fillmode": "overlay",
              "size": 10,
              "solidity": 0.2
             }
            },
            "type": "bar"
           }
          ],
          "barpolar": [
           {
            "marker": {
             "line": {
              "color": "#E5ECF6",
              "width": 0.5
             },
             "pattern": {
              "fillmode": "overlay",
              "size": 10,
              "solidity": 0.2
             }
            },
            "type": "barpolar"
           }
          ],
          "carpet": [
           {
            "aaxis": {
             "endlinecolor": "#2a3f5f",
             "gridcolor": "white",
             "linecolor": "white",
             "minorgridcolor": "white",
             "startlinecolor": "#2a3f5f"
            },
            "baxis": {
             "endlinecolor": "#2a3f5f",
             "gridcolor": "white",
             "linecolor": "white",
             "minorgridcolor": "white",
             "startlinecolor": "#2a3f5f"
            },
            "type": "carpet"
           }
          ],
          "choropleth": [
           {
            "colorbar": {
             "outlinewidth": 0,
             "ticks": ""
            },
            "type": "choropleth"
           }
          ],
          "contour": [
           {
            "colorbar": {
             "outlinewidth": 0,
             "ticks": ""
            },
            "colorscale": [
             [
              0,
              "#0d0887"
             ],
             [
              0.1111111111111111,
              "#46039f"
             ],
             [
              0.2222222222222222,
              "#7201a8"
             ],
             [
              0.3333333333333333,
              "#9c179e"
             ],
             [
              0.4444444444444444,
              "#bd3786"
             ],
             [
              0.5555555555555556,
              "#d8576b"
             ],
             [
              0.6666666666666666,
              "#ed7953"
             ],
             [
              0.7777777777777778,
              "#fb9f3a"
             ],
             [
              0.8888888888888888,
              "#fdca26"
             ],
             [
              1,
              "#f0f921"
             ]
            ],
            "type": "contour"
           }
          ],
          "contourcarpet": [
           {
            "colorbar": {
             "outlinewidth": 0,
             "ticks": ""
            },
            "type": "contourcarpet"
           }
          ],
          "heatmap": [
           {
            "colorbar": {
             "outlinewidth": 0,
             "ticks": ""
            },
            "colorscale": [
             [
              0,
              "#0d0887"
             ],
             [
              0.1111111111111111,
              "#46039f"
             ],
             [
              0.2222222222222222,
              "#7201a8"
             ],
             [
              0.3333333333333333,
              "#9c179e"
             ],
             [
              0.4444444444444444,
              "#bd3786"
             ],
             [
              0.5555555555555556,
              "#d8576b"
             ],
             [
              0.6666666666666666,
              "#ed7953"
             ],
             [
              0.7777777777777778,
              "#fb9f3a"
             ],
             [
              0.8888888888888888,
              "#fdca26"
             ],
             [
              1,
              "#f0f921"
             ]
            ],
            "type": "heatmap"
           }
          ],
          "heatmapgl": [
           {
            "colorbar": {
             "outlinewidth": 0,
             "ticks": ""
            },
            "colorscale": [
             [
              0,
              "#0d0887"
             ],
             [
              0.1111111111111111,
              "#46039f"
             ],
             [
              0.2222222222222222,
              "#7201a8"
             ],
             [
              0.3333333333333333,
              "#9c179e"
             ],
             [
              0.4444444444444444,
              "#bd3786"
             ],
             [
              0.5555555555555556,
              "#d8576b"
             ],
             [
              0.6666666666666666,
              "#ed7953"
             ],
             [
              0.7777777777777778,
              "#fb9f3a"
             ],
             [
              0.8888888888888888,
              "#fdca26"
             ],
             [
              1,
              "#f0f921"
             ]
            ],
            "type": "heatmapgl"
           }
          ],
          "histogram": [
           {
            "marker": {
             "pattern": {
              "fillmode": "overlay",
              "size": 10,
              "solidity": 0.2
             }
            },
            "type": "histogram"
           }
          ],
          "histogram2d": [
           {
            "colorbar": {
             "outlinewidth": 0,
             "ticks": ""
            },
            "colorscale": [
             [
              0,
              "#0d0887"
             ],
             [
              0.1111111111111111,
              "#46039f"
             ],
             [
              0.2222222222222222,
              "#7201a8"
             ],
             [
              0.3333333333333333,
              "#9c179e"
             ],
             [
              0.4444444444444444,
              "#bd3786"
             ],
             [
              0.5555555555555556,
              "#d8576b"
             ],
             [
              0.6666666666666666,
              "#ed7953"
             ],
             [
              0.7777777777777778,
              "#fb9f3a"
             ],
             [
              0.8888888888888888,
              "#fdca26"
             ],
             [
              1,
              "#f0f921"
             ]
            ],
            "type": "histogram2d"
           }
          ],
          "histogram2dcontour": [
           {
            "colorbar": {
             "outlinewidth": 0,
             "ticks": ""
            },
            "colorscale": [
             [
              0,
              "#0d0887"
             ],
             [
              0.1111111111111111,
              "#46039f"
             ],
             [
              0.2222222222222222,
              "#7201a8"
             ],
             [
              0.3333333333333333,
              "#9c179e"
             ],
             [
              0.4444444444444444,
              "#bd3786"
             ],
             [
              0.5555555555555556,
              "#d8576b"
             ],
             [
              0.6666666666666666,
              "#ed7953"
             ],
             [
              0.7777777777777778,
              "#fb9f3a"
             ],
             [
              0.8888888888888888,
              "#fdca26"
             ],
             [
              1,
              "#f0f921"
             ]
            ],
            "type": "histogram2dcontour"
           }
          ],
          "mesh3d": [
           {
            "colorbar": {
             "outlinewidth": 0,
             "ticks": ""
            },
            "type": "mesh3d"
           }
          ],
          "parcoords": [
           {
            "line": {
             "colorbar": {
              "outlinewidth": 0,
              "ticks": ""
             }
            },
            "type": "parcoords"
           }
          ],
          "pie": [
           {
            "automargin": true,
            "type": "pie"
           }
          ],
          "scatter": [
           {
            "fillpattern": {
             "fillmode": "overlay",
             "size": 10,
             "solidity": 0.2
            },
            "type": "scatter"
           }
          ],
          "scatter3d": [
           {
            "line": {
             "colorbar": {
              "outlinewidth": 0,
              "ticks": ""
             }
            },
            "marker": {
             "colorbar": {
              "outlinewidth": 0,
              "ticks": ""
             }
            },
            "type": "scatter3d"
           }
          ],
          "scattercarpet": [
           {
            "marker": {
             "colorbar": {
              "outlinewidth": 0,
              "ticks": ""
             }
            },
            "type": "scattercarpet"
           }
          ],
          "scattergeo": [
           {
            "marker": {
             "colorbar": {
              "outlinewidth": 0,
              "ticks": ""
             }
            },
            "type": "scattergeo"
           }
          ],
          "scattergl": [
           {
            "marker": {
             "colorbar": {
              "outlinewidth": 0,
              "ticks": ""
             }
            },
            "type": "scattergl"
           }
          ],
          "scattermapbox": [
           {
            "marker": {
             "colorbar": {
              "outlinewidth": 0,
              "ticks": ""
             }
            },
            "type": "scattermapbox"
           }
          ],
          "scatterpolar": [
           {
            "marker": {
             "colorbar": {
              "outlinewidth": 0,
              "ticks": ""
             }
            },
            "type": "scatterpolar"
           }
          ],
          "scatterpolargl": [
           {
            "marker": {
             "colorbar": {
              "outlinewidth": 0,
              "ticks": ""
             }
            },
            "type": "scatterpolargl"
           }
          ],
          "scatterternary": [
           {
            "marker": {
             "colorbar": {
              "outlinewidth": 0,
              "ticks": ""
             }
            },
            "type": "scatterternary"
           }
          ],
          "surface": [
           {
            "colorbar": {
             "outlinewidth": 0,
             "ticks": ""
            },
            "colorscale": [
             [
              0,
              "#0d0887"
             ],
             [
              0.1111111111111111,
              "#46039f"
             ],
             [
              0.2222222222222222,
              "#7201a8"
             ],
             [
              0.3333333333333333,
              "#9c179e"
             ],
             [
              0.4444444444444444,
              "#bd3786"
             ],
             [
              0.5555555555555556,
              "#d8576b"
             ],
             [
              0.6666666666666666,
              "#ed7953"
             ],
             [
              0.7777777777777778,
              "#fb9f3a"
             ],
             [
              0.8888888888888888,
              "#fdca26"
             ],
             [
              1,
              "#f0f921"
             ]
            ],
            "type": "surface"
           }
          ],
          "table": [
           {
            "cells": {
             "fill": {
              "color": "#EBF0F8"
             },
             "line": {
              "color": "white"
             }
            },
            "header": {
             "fill": {
              "color": "#C8D4E3"
             },
             "line": {
              "color": "white"
             }
            },
            "type": "table"
           }
          ]
         },
         "layout": {
          "annotationdefaults": {
           "arrowcolor": "#2a3f5f",
           "arrowhead": 0,
           "arrowwidth": 1
          },
          "autotypenumbers": "strict",
          "coloraxis": {
           "colorbar": {
            "outlinewidth": 0,
            "ticks": ""
           }
          },
          "colorscale": {
           "diverging": [
            [
             0,
             "#8e0152"
            ],
            [
             0.1,
             "#c51b7d"
            ],
            [
             0.2,
             "#de77ae"
            ],
            [
             0.3,
             "#f1b6da"
            ],
            [
             0.4,
             "#fde0ef"
            ],
            [
             0.5,
             "#f7f7f7"
            ],
            [
             0.6,
             "#e6f5d0"
            ],
            [
             0.7,
             "#b8e186"
            ],
            [
             0.8,
             "#7fbc41"
            ],
            [
             0.9,
             "#4d9221"
            ],
            [
             1,
             "#276419"
            ]
           ],
           "sequential": [
            [
             0,
             "#0d0887"
            ],
            [
             0.1111111111111111,
             "#46039f"
            ],
            [
             0.2222222222222222,
             "#7201a8"
            ],
            [
             0.3333333333333333,
             "#9c179e"
            ],
            [
             0.4444444444444444,
             "#bd3786"
            ],
            [
             0.5555555555555556,
             "#d8576b"
            ],
            [
             0.6666666666666666,
             "#ed7953"
            ],
            [
             0.7777777777777778,
             "#fb9f3a"
            ],
            [
             0.8888888888888888,
             "#fdca26"
            ],
            [
             1,
             "#f0f921"
            ]
           ],
           "sequentialminus": [
            [
             0,
             "#0d0887"
            ],
            [
             0.1111111111111111,
             "#46039f"
            ],
            [
             0.2222222222222222,
             "#7201a8"
            ],
            [
             0.3333333333333333,
             "#9c179e"
            ],
            [
             0.4444444444444444,
             "#bd3786"
            ],
            [
             0.5555555555555556,
             "#d8576b"
            ],
            [
             0.6666666666666666,
             "#ed7953"
            ],
            [
             0.7777777777777778,
             "#fb9f3a"
            ],
            [
             0.8888888888888888,
             "#fdca26"
            ],
            [
             1,
             "#f0f921"
            ]
           ]
          },
          "colorway": [
           "#636efa",
           "#EF553B",
           "#00cc96",
           "#ab63fa",
           "#FFA15A",
           "#19d3f3",
           "#FF6692",
           "#B6E880",
           "#FF97FF",
           "#FECB52"
          ],
          "font": {
           "color": "#2a3f5f"
          },
          "geo": {
           "bgcolor": "white",
           "lakecolor": "white",
           "landcolor": "#E5ECF6",
           "showlakes": true,
           "showland": true,
           "subunitcolor": "white"
          },
          "hoverlabel": {
           "align": "left"
          },
          "hovermode": "closest",
          "mapbox": {
           "style": "light"
          },
          "paper_bgcolor": "white",
          "plot_bgcolor": "#E5ECF6",
          "polar": {
           "angularaxis": {
            "gridcolor": "white",
            "linecolor": "white",
            "ticks": ""
           },
           "bgcolor": "#E5ECF6",
           "radialaxis": {
            "gridcolor": "white",
            "linecolor": "white",
            "ticks": ""
           }
          },
          "scene": {
           "xaxis": {
            "backgroundcolor": "#E5ECF6",
            "gridcolor": "white",
            "gridwidth": 2,
            "linecolor": "white",
            "showbackground": true,
            "ticks": "",
            "zerolinecolor": "white"
           },
           "yaxis": {
            "backgroundcolor": "#E5ECF6",
            "gridcolor": "white",
            "gridwidth": 2,
            "linecolor": "white",
            "showbackground": true,
            "ticks": "",
            "zerolinecolor": "white"
           },
           "zaxis": {
            "backgroundcolor": "#E5ECF6",
            "gridcolor": "white",
            "gridwidth": 2,
            "linecolor": "white",
            "showbackground": true,
            "ticks": "",
            "zerolinecolor": "white"
           }
          },
          "shapedefaults": {
           "line": {
            "color": "#2a3f5f"
           }
          },
          "ternary": {
           "aaxis": {
            "gridcolor": "white",
            "linecolor": "white",
            "ticks": ""
           },
           "baxis": {
            "gridcolor": "white",
            "linecolor": "white",
            "ticks": ""
           },
           "bgcolor": "#E5ECF6",
           "caxis": {
            "gridcolor": "white",
            "linecolor": "white",
            "ticks": ""
           }
          },
          "title": {
           "x": 0.05
          },
          "xaxis": {
           "automargin": true,
           "gridcolor": "white",
           "linecolor": "white",
           "ticks": "",
           "title": {
            "standoff": 15
           },
           "zerolinecolor": "white",
           "zerolinewidth": 2
          },
          "yaxis": {
           "automargin": true,
           "gridcolor": "white",
           "linecolor": "white",
           "ticks": "",
           "title": {
            "standoff": 15
           },
           "zerolinecolor": "white",
           "zerolinewidth": 2
          }
         }
        }
       }
      },
      "text/html": [
       "<div>                            <div id=\"1bb7d232-8f90-4907-9791-e5e13849b906\" class=\"plotly-graph-div\" style=\"height:525px; width:100%;\"></div>            <script type=\"text/javascript\">                require([\"plotly\"], function(Plotly) {                    window.PLOTLYENV=window.PLOTLYENV || {};                                    if (document.getElementById(\"1bb7d232-8f90-4907-9791-e5e13849b906\")) {                    Plotly.newPlot(                        \"1bb7d232-8f90-4907-9791-e5e13849b906\",                        [{\"hovertemplate\":\"link_time=%{r}\\u003cbr\\u003enum_mentions=%{theta}\\u003cextra\\u003e\\u003c\\u002fextra\\u003e\",\"legendgroup\":\"\",\"line\":{\"color\":\"#636efa\",\"dash\":\"solid\"},\"marker\":{\"symbol\":\"circle\"},\"mode\":\"lines\",\"name\":\"\",\"r\":[1.277397632598877,1.838517665863037,1.1825172901153564,1.4465210437774658,1.5957846641540527,1.5090711116790771,1.663524866104126,1.8181977272033691,1.5961244106292725,1.5145151615142822,1.6562986373901367,0.8609893321990967,2.910966396331787,1.1668853759765625,0.6393530368804932,1.655945062637329,3.3177692890167236,0.28969383239746094,0.2695300579071045,2.8693618774414062,1.126495361328125,3.010085105895996,3.26822566986084,0.14347457885742188,1.1288650035858154,0.20139408111572266,0.35820627212524414,0.23388242721557617,1.3059027194976807,1.6937079429626465,7.483839750289917,7.842280387878418,11.299989223480225],\"showlegend\":false,\"subplot\":\"polar\",\"theta\":[219,350,226,278,316,256,290,328,287,282,316,160,570,214,138,327,622,76,53,565,208,593,604,27,207,38,63,43,247,310,1321,1408,1857],\"type\":\"scatterpolar\"}],                        {\"template\":{\"data\":{\"histogram2dcontour\":[{\"type\":\"histogram2dcontour\",\"colorbar\":{\"outlinewidth\":0,\"ticks\":\"\"},\"colorscale\":[[0.0,\"#0d0887\"],[0.1111111111111111,\"#46039f\"],[0.2222222222222222,\"#7201a8\"],[0.3333333333333333,\"#9c179e\"],[0.4444444444444444,\"#bd3786\"],[0.5555555555555556,\"#d8576b\"],[0.6666666666666666,\"#ed7953\"],[0.7777777777777778,\"#fb9f3a\"],[0.8888888888888888,\"#fdca26\"],[1.0,\"#f0f921\"]]}],\"choropleth\":[{\"type\":\"choropleth\",\"colorbar\":{\"outlinewidth\":0,\"ticks\":\"\"}}],\"histogram2d\":[{\"type\":\"histogram2d\",\"colorbar\":{\"outlinewidth\":0,\"ticks\":\"\"},\"colorscale\":[[0.0,\"#0d0887\"],[0.1111111111111111,\"#46039f\"],[0.2222222222222222,\"#7201a8\"],[0.3333333333333333,\"#9c179e\"],[0.4444444444444444,\"#bd3786\"],[0.5555555555555556,\"#d8576b\"],[0.6666666666666666,\"#ed7953\"],[0.7777777777777778,\"#fb9f3a\"],[0.8888888888888888,\"#fdca26\"],[1.0,\"#f0f921\"]]}],\"heatmap\":[{\"type\":\"heatmap\",\"colorbar\":{\"outlinewidth\":0,\"ticks\":\"\"},\"colorscale\":[[0.0,\"#0d0887\"],[0.1111111111111111,\"#46039f\"],[0.2222222222222222,\"#7201a8\"],[0.3333333333333333,\"#9c179e\"],[0.4444444444444444,\"#bd3786\"],[0.5555555555555556,\"#d8576b\"],[0.6666666666666666,\"#ed7953\"],[0.7777777777777778,\"#fb9f3a\"],[0.8888888888888888,\"#fdca26\"],[1.0,\"#f0f921\"]]}],\"heatmapgl\":[{\"type\":\"heatmapgl\",\"colorbar\":{\"outlinewidth\":0,\"ticks\":\"\"},\"colorscale\":[[0.0,\"#0d0887\"],[0.1111111111111111,\"#46039f\"],[0.2222222222222222,\"#7201a8\"],[0.3333333333333333,\"#9c179e\"],[0.4444444444444444,\"#bd3786\"],[0.5555555555555556,\"#d8576b\"],[0.6666666666666666,\"#ed7953\"],[0.7777777777777778,\"#fb9f3a\"],[0.8888888888888888,\"#fdca26\"],[1.0,\"#f0f921\"]]}],\"contourcarpet\":[{\"type\":\"contourcarpet\",\"colorbar\":{\"outlinewidth\":0,\"ticks\":\"\"}}],\"contour\":[{\"type\":\"contour\",\"colorbar\":{\"outlinewidth\":0,\"ticks\":\"\"},\"colorscale\":[[0.0,\"#0d0887\"],[0.1111111111111111,\"#46039f\"],[0.2222222222222222,\"#7201a8\"],[0.3333333333333333,\"#9c179e\"],[0.4444444444444444,\"#bd3786\"],[0.5555555555555556,\"#d8576b\"],[0.6666666666666666,\"#ed7953\"],[0.7777777777777778,\"#fb9f3a\"],[0.8888888888888888,\"#fdca26\"],[1.0,\"#f0f921\"]]}],\"surface\":[{\"type\":\"surface\",\"colorbar\":{\"outlinewidth\":0,\"ticks\":\"\"},\"colorscale\":[[0.0,\"#0d0887\"],[0.1111111111111111,\"#46039f\"],[0.2222222222222222,\"#7201a8\"],[0.3333333333333333,\"#9c179e\"],[0.4444444444444444,\"#bd3786\"],[0.5555555555555556,\"#d8576b\"],[0.6666666666666666,\"#ed7953\"],[0.7777777777777778,\"#fb9f3a\"],[0.8888888888888888,\"#fdca26\"],[1.0,\"#f0f921\"]]}],\"mesh3d\":[{\"type\":\"mesh3d\",\"colorbar\":{\"outlinewidth\":0,\"ticks\":\"\"}}],\"scatter\":[{\"fillpattern\":{\"fillmode\":\"overlay\",\"size\":10,\"solidity\":0.2},\"type\":\"scatter\"}],\"parcoords\":[{\"type\":\"parcoords\",\"line\":{\"colorbar\":{\"outlinewidth\":0,\"ticks\":\"\"}}}],\"scatterpolargl\":[{\"type\":\"scatterpolargl\",\"marker\":{\"colorbar\":{\"outlinewidth\":0,\"ticks\":\"\"}}}],\"bar\":[{\"error_x\":{\"color\":\"#2a3f5f\"},\"error_y\":{\"color\":\"#2a3f5f\"},\"marker\":{\"line\":{\"color\":\"#E5ECF6\",\"width\":0.5},\"pattern\":{\"fillmode\":\"overlay\",\"size\":10,\"solidity\":0.2}},\"type\":\"bar\"}],\"scattergeo\":[{\"type\":\"scattergeo\",\"marker\":{\"colorbar\":{\"outlinewidth\":0,\"ticks\":\"\"}}}],\"scatterpolar\":[{\"type\":\"scatterpolar\",\"marker\":{\"colorbar\":{\"outlinewidth\":0,\"ticks\":\"\"}}}],\"histogram\":[{\"marker\":{\"pattern\":{\"fillmode\":\"overlay\",\"size\":10,\"solidity\":0.2}},\"type\":\"histogram\"}],\"scattergl\":[{\"type\":\"scattergl\",\"marker\":{\"colorbar\":{\"outlinewidth\":0,\"ticks\":\"\"}}}],\"scatter3d\":[{\"type\":\"scatter3d\",\"line\":{\"colorbar\":{\"outlinewidth\":0,\"ticks\":\"\"}},\"marker\":{\"colorbar\":{\"outlinewidth\":0,\"ticks\":\"\"}}}],\"scattermapbox\":[{\"type\":\"scattermapbox\",\"marker\":{\"colorbar\":{\"outlinewidth\":0,\"ticks\":\"\"}}}],\"scatterternary\":[{\"type\":\"scatterternary\",\"marker\":{\"colorbar\":{\"outlinewidth\":0,\"ticks\":\"\"}}}],\"scattercarpet\":[{\"type\":\"scattercarpet\",\"marker\":{\"colorbar\":{\"outlinewidth\":0,\"ticks\":\"\"}}}],\"carpet\":[{\"aaxis\":{\"endlinecolor\":\"#2a3f5f\",\"gridcolor\":\"white\",\"linecolor\":\"white\",\"minorgridcolor\":\"white\",\"startlinecolor\":\"#2a3f5f\"},\"baxis\":{\"endlinecolor\":\"#2a3f5f\",\"gridcolor\":\"white\",\"linecolor\":\"white\",\"minorgridcolor\":\"white\",\"startlinecolor\":\"#2a3f5f\"},\"type\":\"carpet\"}],\"table\":[{\"cells\":{\"fill\":{\"color\":\"#EBF0F8\"},\"line\":{\"color\":\"white\"}},\"header\":{\"fill\":{\"color\":\"#C8D4E3\"},\"line\":{\"color\":\"white\"}},\"type\":\"table\"}],\"barpolar\":[{\"marker\":{\"line\":{\"color\":\"#E5ECF6\",\"width\":0.5},\"pattern\":{\"fillmode\":\"overlay\",\"size\":10,\"solidity\":0.2}},\"type\":\"barpolar\"}],\"pie\":[{\"automargin\":true,\"type\":\"pie\"}]},\"layout\":{\"autotypenumbers\":\"strict\",\"colorway\":[\"#636efa\",\"#EF553B\",\"#00cc96\",\"#ab63fa\",\"#FFA15A\",\"#19d3f3\",\"#FF6692\",\"#B6E880\",\"#FF97FF\",\"#FECB52\"],\"font\":{\"color\":\"#2a3f5f\"},\"hovermode\":\"closest\",\"hoverlabel\":{\"align\":\"left\"},\"paper_bgcolor\":\"white\",\"plot_bgcolor\":\"#E5ECF6\",\"polar\":{\"bgcolor\":\"#E5ECF6\",\"angularaxis\":{\"gridcolor\":\"white\",\"linecolor\":\"white\",\"ticks\":\"\"},\"radialaxis\":{\"gridcolor\":\"white\",\"linecolor\":\"white\",\"ticks\":\"\"}},\"ternary\":{\"bgcolor\":\"#E5ECF6\",\"aaxis\":{\"gridcolor\":\"white\",\"linecolor\":\"white\",\"ticks\":\"\"},\"baxis\":{\"gridcolor\":\"white\",\"linecolor\":\"white\",\"ticks\":\"\"},\"caxis\":{\"gridcolor\":\"white\",\"linecolor\":\"white\",\"ticks\":\"\"}},\"coloraxis\":{\"colorbar\":{\"outlinewidth\":0,\"ticks\":\"\"}},\"colorscale\":{\"sequential\":[[0.0,\"#0d0887\"],[0.1111111111111111,\"#46039f\"],[0.2222222222222222,\"#7201a8\"],[0.3333333333333333,\"#9c179e\"],[0.4444444444444444,\"#bd3786\"],[0.5555555555555556,\"#d8576b\"],[0.6666666666666666,\"#ed7953\"],[0.7777777777777778,\"#fb9f3a\"],[0.8888888888888888,\"#fdca26\"],[1.0,\"#f0f921\"]],\"sequentialminus\":[[0.0,\"#0d0887\"],[0.1111111111111111,\"#46039f\"],[0.2222222222222222,\"#7201a8\"],[0.3333333333333333,\"#9c179e\"],[0.4444444444444444,\"#bd3786\"],[0.5555555555555556,\"#d8576b\"],[0.6666666666666666,\"#ed7953\"],[0.7777777777777778,\"#fb9f3a\"],[0.8888888888888888,\"#fdca26\"],[1.0,\"#f0f921\"]],\"diverging\":[[0,\"#8e0152\"],[0.1,\"#c51b7d\"],[0.2,\"#de77ae\"],[0.3,\"#f1b6da\"],[0.4,\"#fde0ef\"],[0.5,\"#f7f7f7\"],[0.6,\"#e6f5d0\"],[0.7,\"#b8e186\"],[0.8,\"#7fbc41\"],[0.9,\"#4d9221\"],[1,\"#276419\"]]},\"xaxis\":{\"gridcolor\":\"white\",\"linecolor\":\"white\",\"ticks\":\"\",\"title\":{\"standoff\":15},\"zerolinecolor\":\"white\",\"automargin\":true,\"zerolinewidth\":2},\"yaxis\":{\"gridcolor\":\"white\",\"linecolor\":\"white\",\"ticks\":\"\",\"title\":{\"standoff\":15},\"zerolinecolor\":\"white\",\"automargin\":true,\"zerolinewidth\":2},\"scene\":{\"xaxis\":{\"backgroundcolor\":\"#E5ECF6\",\"gridcolor\":\"white\",\"linecolor\":\"white\",\"showbackground\":true,\"ticks\":\"\",\"zerolinecolor\":\"white\",\"gridwidth\":2},\"yaxis\":{\"backgroundcolor\":\"#E5ECF6\",\"gridcolor\":\"white\",\"linecolor\":\"white\",\"showbackground\":true,\"ticks\":\"\",\"zerolinecolor\":\"white\",\"gridwidth\":2},\"zaxis\":{\"backgroundcolor\":\"#E5ECF6\",\"gridcolor\":\"white\",\"linecolor\":\"white\",\"showbackground\":true,\"ticks\":\"\",\"zerolinecolor\":\"white\",\"gridwidth\":2}},\"shapedefaults\":{\"line\":{\"color\":\"#2a3f5f\"}},\"annotationdefaults\":{\"arrowcolor\":\"#2a3f5f\",\"arrowhead\":0,\"arrowwidth\":1},\"geo\":{\"bgcolor\":\"white\",\"landcolor\":\"#E5ECF6\",\"subunitcolor\":\"white\",\"showland\":true,\"showlakes\":true,\"lakecolor\":\"white\"},\"title\":{\"x\":0.05},\"mapbox\":{\"style\":\"light\"}}},\"polar\":{\"domain\":{\"x\":[0.0,1.0],\"y\":[0.0,1.0]},\"angularaxis\":{\"direction\":\"clockwise\",\"rotation\":90}},\"legend\":{\"tracegroupgap\":0},\"margin\":{\"t\":60}},                        {\"responsive\": true}                    ).then(function(){\n",
       "                            \n",
       "var gd = document.getElementById('1bb7d232-8f90-4907-9791-e5e13849b906');\n",
       "var x = new MutationObserver(function (mutations, observer) {{\n",
       "        var display = window.getComputedStyle(gd).display;\n",
       "        if (!display || display === 'none') {{\n",
       "            console.log([gd, 'removed!']);\n",
       "            Plotly.purge(gd);\n",
       "            observer.disconnect();\n",
       "        }}\n",
       "}});\n",
       "\n",
       "// Listen for the removal of the full notebook cells\n",
       "var notebookContainer = gd.closest('#notebook-container');\n",
       "if (notebookContainer) {{\n",
       "    x.observe(notebookContainer, {childList: true});\n",
       "}}\n",
       "\n",
       "// Listen for the clearing of the current output cell\n",
       "var outputEl = gd.closest('.output');\n",
       "if (outputEl) {{\n",
       "    x.observe(outputEl, {childList: true});\n",
       "}}\n",
       "\n",
       "                        })                };                });            </script>        </div>"
      ]
     },
     "metadata": {},
     "output_type": "display_data"
    }
   ],
   "source": [
    "import plotly.express as px\n",
    "fig = px.line_polar(speed_dets_coref_df, r='link_time', theta='num_mentions', line_close=False)\n",
    "# fig = px.line_polar(speed_dets_met_df, r='link_time', theta='num_mentions', line_close=False)\n",
    "fig.show()"
   ]
  },
  {
   "cell_type": "code",
   "execution_count": 14,
   "metadata": {},
   "outputs": [
    {
     "data": {
      "text/html": [
       "<div>\n",
       "<style scoped>\n",
       "    .dataframe tbody tr th:only-of-type {\n",
       "        vertical-align: middle;\n",
       "    }\n",
       "\n",
       "    .dataframe tbody tr th {\n",
       "        vertical-align: top;\n",
       "    }\n",
       "\n",
       "    .dataframe thead th {\n",
       "        text-align: right;\n",
       "    }\n",
       "</style>\n",
       "<table border=\"1\" class=\"dataframe\">\n",
       "  <thead>\n",
       "    <tr style=\"text-align: right;\">\n",
       "      <th></th>\n",
       "      <th>doc_key</th>\n",
       "      <th>dataset</th>\n",
       "      <th>speed_up</th>\n",
       "    </tr>\n",
       "  </thead>\n",
       "  <tbody>\n",
       "    <tr>\n",
       "      <th>0</th>\n",
       "      <td>001_The_Frog-King,_or_Iron_Henry_0</td>\n",
       "      <td>fantasy</td>\n",
       "      <td>35.019066</td>\n",
       "    </tr>\n",
       "    <tr>\n",
       "      <th>1</th>\n",
       "      <td>008_The_Wonderful_Musician_0</td>\n",
       "      <td>fantasy</td>\n",
       "      <td>18.642258</td>\n",
       "    </tr>\n",
       "    <tr>\n",
       "      <th>2</th>\n",
       "      <td>031_The_Girl_Without_Hands_0</td>\n",
       "      <td>fantasy</td>\n",
       "      <td>22.276751</td>\n",
       "    </tr>\n",
       "    <tr>\n",
       "      <th>3</th>\n",
       "      <td>039_The_Elves_0</td>\n",
       "      <td>fantasy</td>\n",
       "      <td>20.141702</td>\n",
       "    </tr>\n",
       "    <tr>\n",
       "      <th>4</th>\n",
       "      <td>042_The_Godfather_0</td>\n",
       "      <td>fantasy</td>\n",
       "      <td>28.767947</td>\n",
       "    </tr>\n",
       "    <tr>\n",
       "      <th>5</th>\n",
       "      <td>045_Thumbling_as_Journeyman_0</td>\n",
       "      <td>fantasy</td>\n",
       "      <td>30.393012</td>\n",
       "    </tr>\n",
       "    <tr>\n",
       "      <th>6</th>\n",
       "      <td>059_Frederick_and_Catherine_0</td>\n",
       "      <td>fantasy</td>\n",
       "      <td>22.076274</td>\n",
       "    </tr>\n",
       "    <tr>\n",
       "      <th>7</th>\n",
       "      <td>074_The_Fox_and_His_Cousin_0</td>\n",
       "      <td>fantasy</td>\n",
       "      <td>31.401020</td>\n",
       "    </tr>\n",
       "    <tr>\n",
       "      <th>8</th>\n",
       "      <td>1023_bleak_house_brat_0</td>\n",
       "      <td>litbank</td>\n",
       "      <td>45.051121</td>\n",
       "    </tr>\n",
       "    <tr>\n",
       "      <th>9</th>\n",
       "      <td>109_The_Shroud_0</td>\n",
       "      <td>fantasy</td>\n",
       "      <td>37.994560</td>\n",
       "    </tr>\n",
       "    <tr>\n",
       "      <th>10</th>\n",
       "      <td>111_The_Skilful_Huntsman_0</td>\n",
       "      <td>fantasy</td>\n",
       "      <td>22.030663</td>\n",
       "    </tr>\n",
       "    <tr>\n",
       "      <th>11</th>\n",
       "      <td>114_The_Cunning_Little_Tailor_0</td>\n",
       "      <td>fantasy</td>\n",
       "      <td>19.398324</td>\n",
       "    </tr>\n",
       "    <tr>\n",
       "      <th>12</th>\n",
       "      <td>1155_the_secret_adversary_brat_0</td>\n",
       "      <td>litbank</td>\n",
       "      <td>32.525799</td>\n",
       "    </tr>\n",
       "    <tr>\n",
       "      <th>13</th>\n",
       "      <td>130_One-eye,_Two-eyes,_and_Three-eyes_0</td>\n",
       "      <td>fantasy</td>\n",
       "      <td>21.382526</td>\n",
       "    </tr>\n",
       "    <tr>\n",
       "      <th>14</th>\n",
       "      <td>136_Iron_John_0</td>\n",
       "      <td>fantasy</td>\n",
       "      <td>22.728264</td>\n",
       "    </tr>\n",
       "    <tr>\n",
       "      <th>15</th>\n",
       "      <td>138_Knoist_and_his_Three_Sons_0</td>\n",
       "      <td>fantasy</td>\n",
       "      <td>21.590491</td>\n",
       "    </tr>\n",
       "    <tr>\n",
       "      <th>16</th>\n",
       "      <td>144_The_Donkey_0</td>\n",
       "      <td>fantasy</td>\n",
       "      <td>19.019504</td>\n",
       "    </tr>\n",
       "    <tr>\n",
       "      <th>17</th>\n",
       "      <td>145_The_Ungrateful_Son_0</td>\n",
       "      <td>fantasy</td>\n",
       "      <td>27.407890</td>\n",
       "    </tr>\n",
       "    <tr>\n",
       "      <th>18</th>\n",
       "      <td>148_The_Lord’s_Animals_and_the_Devil’s_0</td>\n",
       "      <td>fantasy</td>\n",
       "      <td>35.360372</td>\n",
       "    </tr>\n",
       "    <tr>\n",
       "      <th>19</th>\n",
       "      <td>156_Odds_And_Ends_0</td>\n",
       "      <td>fantasy</td>\n",
       "      <td>25.761431</td>\n",
       "    </tr>\n",
       "    <tr>\n",
       "      <th>20</th>\n",
       "      <td>16357_mary_a_fiction_brat_0</td>\n",
       "      <td>litbank</td>\n",
       "      <td>31.326673</td>\n",
       "    </tr>\n",
       "    <tr>\n",
       "      <th>21</th>\n",
       "      <td>1661_the_adventures_of_sherlock_holmes_brat_0</td>\n",
       "      <td>litbank</td>\n",
       "      <td>32.210834</td>\n",
       "    </tr>\n",
       "    <tr>\n",
       "      <th>22</th>\n",
       "      <td>191_The_Sea-Hare_0</td>\n",
       "      <td>fantasy</td>\n",
       "      <td>33.016700</td>\n",
       "    </tr>\n",
       "    <tr>\n",
       "      <th>23</th>\n",
       "      <td>198_Maid_Maleen_0</td>\n",
       "      <td>fantasy</td>\n",
       "      <td>32.582965</td>\n",
       "    </tr>\n",
       "    <tr>\n",
       "      <th>24</th>\n",
       "      <td>238_dear_enemy_brat_0</td>\n",
       "      <td>litbank</td>\n",
       "      <td>32.361538</td>\n",
       "    </tr>\n",
       "    <tr>\n",
       "      <th>25</th>\n",
       "      <td>271_black_beauty_brat_0</td>\n",
       "      <td>litbank</td>\n",
       "      <td>22.425677</td>\n",
       "    </tr>\n",
       "    <tr>\n",
       "      <th>26</th>\n",
       "      <td>2807_to_have_and_to_hold_brat_0</td>\n",
       "      <td>litbank</td>\n",
       "      <td>43.452982</td>\n",
       "    </tr>\n",
       "    <tr>\n",
       "      <th>27</th>\n",
       "      <td>6593_history_of_tom_jones_a_foundling_brat_0</td>\n",
       "      <td>litbank</td>\n",
       "      <td>22.397445</td>\n",
       "    </tr>\n",
       "    <tr>\n",
       "      <th>28</th>\n",
       "      <td>711_allan_quatermain_brat_0</td>\n",
       "      <td>litbank</td>\n",
       "      <td>30.495031</td>\n",
       "    </tr>\n",
       "    <tr>\n",
       "      <th>29</th>\n",
       "      <td>730_oliver_twist_brat_0</td>\n",
       "      <td>litbank</td>\n",
       "      <td>19.577360</td>\n",
       "    </tr>\n",
       "    <tr>\n",
       "      <th>30</th>\n",
       "      <td>Aladdin_0</td>\n",
       "      <td>aft</td>\n",
       "      <td>23.974840</td>\n",
       "    </tr>\n",
       "    <tr>\n",
       "      <th>31</th>\n",
       "      <td>Alibaba_0</td>\n",
       "      <td>aft</td>\n",
       "      <td>20.202666</td>\n",
       "    </tr>\n",
       "    <tr>\n",
       "      <th>32</th>\n",
       "      <td>alice_0</td>\n",
       "      <td>aft</td>\n",
       "      <td>27.668501</td>\n",
       "    </tr>\n",
       "  </tbody>\n",
       "</table>\n",
       "</div>"
      ],
      "text/plain": [
       "                                          doc_key  dataset   speed_up\n",
       "0              001_The_Frog-King,_or_Iron_Henry_0  fantasy  35.019066\n",
       "1                    008_The_Wonderful_Musician_0  fantasy  18.642258\n",
       "2                    031_The_Girl_Without_Hands_0  fantasy  22.276751\n",
       "3                                 039_The_Elves_0  fantasy  20.141702\n",
       "4                             042_The_Godfather_0  fantasy  28.767947\n",
       "5                   045_Thumbling_as_Journeyman_0  fantasy  30.393012\n",
       "6                   059_Frederick_and_Catherine_0  fantasy  22.076274\n",
       "7                    074_The_Fox_and_His_Cousin_0  fantasy  31.401020\n",
       "8                         1023_bleak_house_brat_0  litbank  45.051121\n",
       "9                                109_The_Shroud_0  fantasy  37.994560\n",
       "10                     111_The_Skilful_Huntsman_0  fantasy  22.030663\n",
       "11                114_The_Cunning_Little_Tailor_0  fantasy  19.398324\n",
       "12               1155_the_secret_adversary_brat_0  litbank  32.525799\n",
       "13        130_One-eye,_Two-eyes,_and_Three-eyes_0  fantasy  21.382526\n",
       "14                                136_Iron_John_0  fantasy  22.728264\n",
       "15                138_Knoist_and_his_Three_Sons_0  fantasy  21.590491\n",
       "16                               144_The_Donkey_0  fantasy  19.019504\n",
       "17                       145_The_Ungrateful_Son_0  fantasy  27.407890\n",
       "18       148_The_Lord’s_Animals_and_the_Devil’s_0  fantasy  35.360372\n",
       "19                            156_Odds_And_Ends_0  fantasy  25.761431\n",
       "20                    16357_mary_a_fiction_brat_0  litbank  31.326673\n",
       "21  1661_the_adventures_of_sherlock_holmes_brat_0  litbank  32.210834\n",
       "22                             191_The_Sea-Hare_0  fantasy  33.016700\n",
       "23                              198_Maid_Maleen_0  fantasy  32.582965\n",
       "24                          238_dear_enemy_brat_0  litbank  32.361538\n",
       "25                        271_black_beauty_brat_0  litbank  22.425677\n",
       "26                2807_to_have_and_to_hold_brat_0  litbank  43.452982\n",
       "27   6593_history_of_tom_jones_a_foundling_brat_0  litbank  22.397445\n",
       "28                    711_allan_quatermain_brat_0  litbank  30.495031\n",
       "29                        730_oliver_twist_brat_0  litbank  19.577360\n",
       "30                                      Aladdin_0      aft  23.974840\n",
       "31                                      Alibaba_0      aft  20.202666\n",
       "32                                        alice_0      aft  27.668501"
      ]
     },
     "execution_count": 14,
     "metadata": {},
     "output_type": "execute_result"
    }
   ],
   "source": [
    "speedup_dets = []\n",
    "speed_dets_coref = sorted(speed_dets_coref,key=lambda x: x[\"doc_key\"])\n",
    "speed_dets_met = sorted(speed_dets_met,key=lambda x: x[\"doc_key\"])\n",
    "for speed_det_ind,speed_det in enumerate(speed_dets_coref):\n",
    "    doc_key = speed_det[\"doc_key\"]\n",
    "    speed_up = speed_det[\"link_time\"] / speed_dets_met[speed_det_ind][\"link_time\"]\n",
    "    speedup_det = {\n",
    "        \"doc_key\": doc_key,\n",
    "        \"dataset\": speed_det[\"dataset\"],\n",
    "        \"speed_up\": speed_up\n",
    "    }\n",
    "    speedup_dets.append(speedup_det)\n",
    "speedup_dets_df = pd.DataFrame(speedup_dets)\n",
    "speedup_dets_df"
   ]
  },
  {
   "cell_type": "code",
   "execution_count": 15,
   "metadata": {},
   "outputs": [
    {
     "data": {
      "text/plain": [
       "<Axes: xlabel='dataset', ylabel='speed_up'>"
      ]
     },
     "execution_count": 15,
     "metadata": {},
     "output_type": "execute_result"
    },
    {
     "data": {
      "image/png": "[encoded data removed]",
      "text/plain": [
       "<Figure size 640x480 with 1 Axes>"
      ]
     },
     "metadata": {},
     "output_type": "display_data"
    }
   ],
   "source": [
    "sns.boxplot(x=\"dataset\", y=\"speed_up\", data=speedup_dets_df)"
   ]
  },
  {
   "cell_type": "code",
   "execution_count": 30,
   "metadata": {},
   "outputs": [],
   "source": [
    "# plt.figure(figsize=(10, 6))\n",
    "# sns.lineplot(data=speed_dets_coref_df, x='num_mentions', y='link_time', label='fast-coref', marker='o')\n",
    "# sns.lineplot(data=speed_dets_met_df, x='num_mentions', y='link_time', label='MEIRa-S', marker='s')\n",
    "# sns.lineplot(data=speed_dets_met_d_df, x='num_mentions', y='link_time', label='MEIRa-D', marker='v')\n",
    "\n",
    "# # Add labels and title\n",
    "# plt.xlabel('Number of Mentions')\n",
    "# plt.ylabel('Link-Time')\n",
    "# plt.title('Line Plot of Number of Mentions vs Link-Time')\n",
    "# plt.legend(title='Datasets')\n",
    "\n",
    "# # Beautify the plot\n",
    "# sns.set_style('darkgrid')\n",
    "# plt.xticks(fontsize=12)\n",
    "# plt.yticks(fontsize=12)\n",
    "# plt.grid(True, which='both', linestyle='--', linewidth=0.5)\n",
    "# plt.tight_layout()\n",
    "\n",
    "# # Show the plot\n",
    "# plt.show()"
   ]
  },
  {
   "cell_type": "code",
   "execution_count": null,
   "metadata": {},
   "outputs": [],
   "source": []
  }
 ],
 "metadata": {
  "kernelspec": {
   "display_name": "myenv",
   "language": "python",
   "name": "python3"
  },
  "language_info": {
   "codemirror_mode": {
    "name": "ipython",
    "version": 3
   },
   "file_extension": ".py",
   "mimetype": "text/x-python",
   "name": "python",
   "nbconvert_exporter": "python",
   "pygments_lexer": "ipython3",
   "version": "3.12.2"
  }
 },
 "nbformat": 4,
 "nbformat_minor": 2
}
