{
 "cells": [
  {
   "cell_type": "code",
   "execution_count": 2,
   "metadata": {},
   "outputs": [],
   "source": [
    "import os\n",
    "import jsonlines"
   ]
  },
  {
   "cell_type": "code",
   "execution_count": 5,
   "metadata": {},
   "outputs": [],
   "source": [
    "## Store seperate text\n",
    "\n",
    "datasets = [\"litbank\", \"fantasy\"]\n",
    "splits = [\"dev\",\"test\"]\n",
    "for dataset in datasets:\n",
    "    for split in splits:\n",
    "        if dataset == \"litbank\":\n",
    "            input_jsonlines = f\"../data/raw_data/{dataset}/longformer_speaker/0/{split}.4096.met.jsonlines\"\n",
    "        else:\n",
    "            input_jsonlines = f\"../data/raw_data/{dataset}/longformer_speaker/{split}.4096.met.jsonlines\"\n",
    "        output_dir = f\"../data/raw_data/{dataset}/text/{split}\"\n",
    "        os.makedirs(output_dir, exist_ok=True)\n",
    "        if split == \"dev\" and dataset == \"fantasy\":\n",
    "            continue\n",
    "        with jsonlines.open(input_jsonlines) as reader:\n",
    "            for obj in reader:\n",
    "                doc_key = obj[\"doc_key\"]\n",
    "                text = \" \".join(obj[\"orig_tokens\"])\n",
    "                with open(f\"{output_dir}/{doc_key}.txt\", \"w\") as f:\n",
    "                    f.write(text)"
   ]
  },
  {
   "cell_type": "code",
   "execution_count": 3,
   "metadata": {},
   "outputs": [
    {
     "name": "stdout",
     "output_type": "stream",
     "text": [
      "<span style='color:blue'>[word1]<sub>1</sub></span> <span style='color:blue'>[word2]<sub>1</sub></span> <span style='color:blue'>[word3]<sub>1</sub></span> word4 <span style='color:blue'>[word5]<sub>1</sub></span> <span style='color:blue'>[word6]<sub>1</sub></span> <span style='color:blue'>[word7]<sub>2</sub></span> <span style='color:blue'>[word8]<sub>2</sub></span>\n"
     ]
    }
   ],
   "source": [
    "def generate_html(words, clusters):\n",
    "    html_parts = words[:]\n",
    "    cluster_map = {}\n",
    "\n",
    "    # Create a mapping from word index to its clusters\n",
    "    for cluster_num, cluster in enumerate(clusters, start=1):\n",
    "        for start, end in cluster:\n",
    "            for idx in range(start, end + 1):\n",
    "                if idx in cluster_map:\n",
    "                    cluster_map[idx].append(cluster_num)\n",
    "                else:\n",
    "                    cluster_map[idx] = [cluster_num]\n",
    "\n",
    "    # Build the HTML string\n",
    "    html_string = \"\"\n",
    "    for idx, word in enumerate(words):\n",
    "        if idx in cluster_map:\n",
    "            clusters_str = ','.join(map(str, cluster_map[idx]))\n",
    "            html_string += f\"<span style='color:blue'>[{word}]<sub>{clusters_str}</sub></span> \"\n",
    "        else:\n",
    "            html_string += word + \" \"\n",
    "\n",
    "    return html_string.strip()\n",
    "\n",
    "# Example usage\n",
    "words = [\"word1\", \"word2\", \"word3\", \"word4\", \"word5\", \"word6\",\"word7\",\"word8\"]\n",
    "clusters = [\n",
    "    [[0, 2], [4, 5]],\n",
    "    [[6, 7]]\n",
    "]\n",
    "\n",
    "html_output = generate_html(words, clusters)\n",
    "print(html_output)"
   ]
  },
  {
   "cell_type": "code",
   "execution_count": 18,
   "metadata": {},
   "outputs": [
    {
     "name": "stdout",
     "output_type": "stream",
     "text": [
      "This <span style='color:blue;'>[is <span style='color:blue;'>[a]<sub>1</sub></span> test]<sub>0</sub></span> <span style='color:blue;'>[text with]<sub>0</sub></span> coreference clusters .\n"
     ]
    }
   ],
   "source": [
    "def highlight_clusters(text_words, golden_clusters):\n",
    "    # Create a list to store the formatted words\n",
    "    formatted_words = list(text_words)\n",
    "    \n",
    "    # Sort the mentions based on their start index to handle nested mentions properly\n",
    "    mention_to_cluster = {}\n",
    "    all_mentions_pos = []\n",
    "    for cluster_ind,cluster in enumerate(golden_clusters):\n",
    "        for mention in cluster:\n",
    "            mention = tuple(mention)\n",
    "            mention_to_cluster[mention] = cluster\n",
    "            all_mentions_pos.append((mention[0],\"<span style='color:blue;'>[\"))\n",
    "            all_mentions_pos.append((mention[1],f\"]<sub>{cluster_ind}</sub></span>\"))\n",
    "    all_mentions_pos.sort()\n",
    "\n",
    "    for pos,element in all_mentions_pos:\n",
    "       \n",
    "        if element[-1] == \"[\":\n",
    "            formatted_words[pos] = element + formatted_words[pos]\n",
    "        else:\n",
    "            formatted_words[pos] = formatted_words[pos] + element\n",
    "    \n",
    "    return \" \".join(formatted_words)\n",
    "        \n",
    "# Example usage\n",
    "text_words = [\"This\", \"is\", \"a\", \"test\", \"text\", \"with\", \"coreference\", \"clusters\", \".\"]\n",
    "golden_clusters = [[[1, 3], [4, 5]], [[2, 2]]]\n",
    "highlighted_text = highlight_clusters(text_words, golden_clusters)\n",
    "print(highlighted_text)"
   ]
  },
  {
   "cell_type": "code",
   "execution_count": 12,
   "metadata": {},
   "outputs": [
    {
     "data": {
      "text/plain": [
       "['6', '1', '2', '3', '4', '5']"
      ]
     },
     "execution_count": 12,
     "metadata": {},
     "output_type": "execute_result"
    }
   ],
   "source": [
    "a = [\"1\",\"2\",\"3\",\"4\",\"5\",]\n",
    "a.insert(0,\"6\")\n",
    "a"
   ]
  },
  {
   "cell_type": "code",
   "execution_count": null,
   "metadata": {},
   "outputs": [],
   "source": []
  }
 ],
 "metadata": {
  "kernelspec": {
   "display_name": "myenv",
   "language": "python",
   "name": "python3"
  },
  "language_info": {
   "codemirror_mode": {
    "name": "ipython",
    "version": 3
   },
   "file_extension": ".py",
   "mimetype": "text/x-python",
   "name": "python",
   "nbconvert_exporter": "python",
   "pygments_lexer": "ipython3",
   "version": "3.12.2"
  }
 },
 "nbformat": 4,
 "nbformat_minor": 2
}
